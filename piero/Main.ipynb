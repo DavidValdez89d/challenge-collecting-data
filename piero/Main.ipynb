{
 "cells": [
  {
   "cell_type": "markdown",
   "id": "03e75e5d-6768-4e02-ae19-589e15fdfe34",
   "metadata": {},
   "source": [
    "# Import libraries"
   ]
  },
  {
   "cell_type": "code",
   "execution_count": 27,
   "id": "261f0753-4600-4679-9908-192f624a7485",
   "metadata": {},
   "outputs": [],
   "source": [
    "import time\n",
    "import requests\n",
    "from selenium import webdriver\n",
    "from selenium.webdriver.common.keys import Keys\n",
    "from selenium.webdriver.common.by import By\n",
    "from bs4 import BeautifulSoup\n",
    "import json\n",
    "import pandas as pd"
   ]
  },
  {
   "cell_type": "markdown",
   "id": "6003f071-b2bf-49fe-aa03-c3dad76c1d00",
   "metadata": {},
   "source": [
    "# Get Cache"
   ]
  },
  {
   "cell_type": "code",
   "execution_count": null,
   "id": "a36ecead-31d7-4282-b2cf-fb5531fe6736",
   "metadata": {},
   "outputs": [],
   "source": []
  },
  {
   "cell_type": "markdown",
   "id": "aa4d08c3-ad1e-438c-83c9-254574ebdb98",
   "metadata": {},
   "source": [
    "# Get Urls"
   ]
  },
  {
   "cell_type": "code",
   "execution_count": 28,
   "id": "aad8577b-6ed3-4e37-a4a5-48ab3e397219",
   "metadata": {},
   "outputs": [
    {
     "name": "stdout",
     "output_type": "stream",
     "text": [
      "60\n",
      "['https://www.immoweb.be/en/classified/house/for-sale/woluwe-saint-lambert/1200/10060574?searchId=6338459f18c32', 'https://www.immoweb.be/en/classified/apartment/for-sale/woluwe-saint-lambert/1200/10145269?searchId=6338459f18c32', 'https://www.immoweb.be/en/classified/new-real-estate-project-apartments/for-sale/gent-sint-denijs-westrem/9051/10145286?searchId=6338459f18c32', 'https://www.immoweb.be/en/classified/apartment/for-sale/ixelles/1050/10141214?searchId=6338459f18c32', 'https://www.immoweb.be/en/classified/new-real-estate-project-apartments/for-sale/brussels-city/1000/9881253?searchId=6338459f18c32', 'https://www.immoweb.be/en/classified/apartment/for-sale/laeken/1020/10143541?searchId=6338459f18c32', 'https://www.immoweb.be/en/classified/apartment/for-sale/hoboken/2660/10143954?searchId=6338459f18c32', 'https://www.immoweb.be/en/classified/new-real-estate-project-apartments/for-sale/zedelgem/8210/10074861?searchId=6338459f18c32', 'https://www.immoweb.be/en/classified/new-real-estate-project-apartments/for-sale/evere/1140/10143882?searchId=6338459f18c32', 'https://www.immoweb.be/en/classified/new-real-estate-project-apartments/for-sale/wavre/1300/10143225?searchId=6338459f18c32', 'https://www.immoweb.be/en/classified/apartment/for-sale/evere/1140/10142884?searchId=6338459f18c32', 'https://www.immoweb.be/en/classified/duplex/for-sale/gent/9000/10143801?searchId=6338459f18c32', 'https://www.immoweb.be/en/classified/new-real-estate-project-apartments/for-sale/chaumont-gistoux/1325/10143472?searchId=6338459f18c32', 'https://www.immoweb.be/en/classified/house/for-sale/waimes/4950/10143254?searchId=6338459f18c32', 'https://www.immoweb.be/en/classified/new-real-estate-project-apartments/for-sale/bruxelles/1000/10092917?searchId=6338459f18c32', 'https://www.immoweb.be/en/classified/apartment-block/for-sale/ronse/9600/10143136?searchId=6338459f18c32', 'https://www.immoweb.be/en/classified/house/for-sale/woluwe-saint-pierre/1150/10142887?searchId=6338459f18c32', 'https://www.immoweb.be/en/classified/exceptional-property/for-sale/dalhem/4607/10143366?searchId=6338459f18c32', 'https://www.immoweb.be/en/classified/house/for-sale/ronse/9600/10140837?searchId=6338459f18c32', 'https://www.immoweb.be/en/classified/new-real-estate-project-apartments/for-sale/berlaar/2590/9948992?searchId=6338459f18c32', 'https://www.immoweb.be/en/classified/apartment/for-sale/ixelles/1050/10142206?searchId=6338459f18c32', 'https://www.immoweb.be/en/classified/new-real-estate-project-apartments/for-sale/willebroek/2830/10141695?searchId=6338459f18c32', 'https://www.immoweb.be/en/classified/apartment/for-sale/woluwe-st-lambert/1200/10052020?searchId=6338459f18c32', 'https://www.immoweb.be/en/classified/new-real-estate-project-apartments/for-sale/gent/9000/10140797?searchId=6338459f18c32', 'https://www.immoweb.be/en/classified/new-real-estate-project-apartments/for-sale/de-klinge/9170/10141588?searchId=6338459f18c32', 'https://www.immoweb.be/en/classified/new-real-estate-project-apartments/for-sale/roeselare/8800/10140738?searchId=6338459f18c32', 'https://www.immoweb.be/en/classified/house/for-sale/remicourt/4350/10140833?searchId=6338459f18c32', 'https://www.immoweb.be/en/classified/apartment/for-sale/woluwe-saint-lambert/1200/10140583?searchId=6338459f18c32', 'https://www.immoweb.be/en/classified/apartment/for-sale/deinze/9800/10130388?searchId=6338459f18c32', 'https://www.immoweb.be/en/classified/apartment/for-sale/kessel-lo/3010/10142174?searchId=6338459f18c32', 'https://www.immoweb.be/en/classified/house/for-sale/woluwe-saint-lambert/1200/10060574?searchId=633845a4b4fa7', 'https://www.immoweb.be/en/classified/apartment/for-sale/woluwe-saint-lambert/1200/10145269?searchId=633845a4b4fa7', 'https://www.immoweb.be/en/classified/new-real-estate-project-apartments/for-sale/gent-sint-denijs-westrem/9051/10145286?searchId=633845a4b4fa7', 'https://www.immoweb.be/en/classified/apartment/for-sale/ixelles/1050/10141214?searchId=633845a4b4fa7', 'https://www.immoweb.be/en/classified/new-real-estate-project-apartments/for-sale/brussels-city/1000/9881253?searchId=633845a4b4fa7', 'https://www.immoweb.be/en/classified/apartment/for-sale/laeken/1020/10143541?searchId=633845a4b4fa7', 'https://www.immoweb.be/en/classified/apartment/for-sale/hoboken/2660/10143954?searchId=633845a4b4fa7', 'https://www.immoweb.be/en/classified/new-real-estate-project-apartments/for-sale/zedelgem/8210/10074861?searchId=633845a4b4fa7', 'https://www.immoweb.be/en/classified/new-real-estate-project-apartments/for-sale/evere/1140/10143882?searchId=633845a4b4fa7', 'https://www.immoweb.be/en/classified/new-real-estate-project-apartments/for-sale/wavre/1300/10143225?searchId=633845a4b4fa7', 'https://www.immoweb.be/en/classified/apartment/for-sale/evere/1140/10142884?searchId=633845a4b4fa7', 'https://www.immoweb.be/en/classified/duplex/for-sale/gent/9000/10143801?searchId=633845a4b4fa7', 'https://www.immoweb.be/en/classified/new-real-estate-project-apartments/for-sale/chaumont-gistoux/1325/10143472?searchId=633845a4b4fa7', 'https://www.immoweb.be/en/classified/house/for-sale/waimes/4950/10143254?searchId=633845a4b4fa7', 'https://www.immoweb.be/en/classified/new-real-estate-project-apartments/for-sale/bruxelles/1000/10092917?searchId=633845a4b4fa7', 'https://www.immoweb.be/en/classified/apartment-block/for-sale/ronse/9600/10143136?searchId=633845a4b4fa7', 'https://www.immoweb.be/en/classified/house/for-sale/woluwe-saint-pierre/1150/10142887?searchId=633845a4b4fa7', 'https://www.immoweb.be/en/classified/exceptional-property/for-sale/dalhem/4607/10143366?searchId=633845a4b4fa7', 'https://www.immoweb.be/en/classified/house/for-sale/ronse/9600/10140837?searchId=633845a4b4fa7', 'https://www.immoweb.be/en/classified/new-real-estate-project-apartments/for-sale/berlaar/2590/9948992?searchId=633845a4b4fa7', 'https://www.immoweb.be/en/classified/apartment/for-sale/ixelles/1050/10142206?searchId=633845a4b4fa7', 'https://www.immoweb.be/en/classified/new-real-estate-project-apartments/for-sale/willebroek/2830/10141695?searchId=633845a4b4fa7', 'https://www.immoweb.be/en/classified/apartment/for-sale/woluwe-st-lambert/1200/10052020?searchId=633845a4b4fa7', 'https://www.immoweb.be/en/classified/new-real-estate-project-apartments/for-sale/gent/9000/10140797?searchId=633845a4b4fa7', 'https://www.immoweb.be/en/classified/new-real-estate-project-apartments/for-sale/de-klinge/9170/10141588?searchId=633845a4b4fa7', 'https://www.immoweb.be/en/classified/new-real-estate-project-apartments/for-sale/roeselare/8800/10140738?searchId=633845a4b4fa7', 'https://www.immoweb.be/en/classified/house/for-sale/remicourt/4350/10140833?searchId=633845a4b4fa7', 'https://www.immoweb.be/en/classified/apartment/for-sale/woluwe-saint-lambert/1200/10140583?searchId=633845a4b4fa7', 'https://www.immoweb.be/en/classified/apartment/for-sale/deinze/9800/10130388?searchId=633845a4b4fa7', 'https://www.immoweb.be/en/classified/apartment/for-sale/kessel-lo/3010/10142174?searchId=633845a4b4fa7']\n"
     ]
    }
   ],
   "source": [
    "def get_page_links(url):\n",
    "    driver = webdriver.Chrome()\n",
    "    driver.implicitly_wait(10)\n",
    "    driver.get(url)\n",
    "\n",
    "    driver.find_element(By.XPATH,'//*[@id=\"uc-btn-accept-banner\"]').click()\n",
    "\n",
    "\n",
    "\n",
    "    html = driver.page_source\n",
    "    soup = BeautifulSoup(html, 'html.parser')\n",
    "    s_links = soup.select('li.search-results__item a')\n",
    "\n",
    "    url_list = []\n",
    "    for element in s_links:\n",
    "        link = element[\"href\"]\n",
    "        if '/agency' in link or '/en/classified/' not in link: \n",
    "            pass\n",
    "\n",
    "        elif 'https://www.immoweb.be/' not in link:\n",
    "            link = 'https://www.immoweb.be/' + link\n",
    "            url_list.append(link)\n",
    "        else:\n",
    "            url_list.append(link)\n",
    "    return url_list\n",
    "\n",
    "\n",
    "\n",
    "def main():\n",
    "    url_list = []\n",
    "    for x in range(1,3):\n",
    "        urls = get_page_links(f'https://www.immoweb.be/en/search/house-and-apartment/for-sale?countries=BE&page=%7Bx%7D&orderBy=relevance%27')\n",
    "        for url in urls:\n",
    "            if url not in url_list:\n",
    "                url_list.append(url)\n",
    "    print(len(url_list))\n",
    "    return url_list\n",
    "\n",
    "print(main())"
   ]
  },
  {
   "cell_type": "markdown",
   "id": "ba0f9803-9001-4c16-a63c-c437d5bdb0b5",
   "metadata": {},
   "source": [
    "# Get Sessions"
   ]
  },
  {
   "cell_type": "code",
   "execution_count": 29,
   "id": "c63ca69f-9b9a-4dd7-942c-d68682c93430",
   "metadata": {},
   "outputs": [],
   "source": [
    "session = requests.Session()"
   ]
  },
  {
   "cell_type": "markdown",
   "id": "e4d469c2-99d8-42c1-a7ff-cd9e3e467b6e",
   "metadata": {},
   "source": [
    "# Get Elements_properties_raw"
   ]
  },
  {
   "cell_type": "code",
   "execution_count": 30,
   "id": "46815ee6-9e35-4ae2-acb2-f3e3d7c6953b",
   "metadata": {},
   "outputs": [],
   "source": [
    "def get_property(url):\n",
    "    req_element = session.get(url)\n",
    "    soup = BeautifulSoup(req_element.text, 'html.parser')\n",
    "    element_info = soup.select('div.classified script')\n",
    "    text = element_info[0].text\n",
    "\n",
    "    return json.loads(\"\".join((\"\".join(text.split('=')[1:]).split(\";\")[:-1])))"
   ]
  },
  {
   "cell_type": "code",
   "execution_count": 31,
   "id": "f6868316-e9a7-4e2b-8819-2840b9162d5c",
   "metadata": {},
   "outputs": [],
   "source": [
    "main_dictionary = dict()\n",
    "for url in url_list:\n",
    "    main_dictionary[url] = get_property(url)"
   ]
  },
  {
   "cell_type": "markdown",
   "id": "0e6bb8d3-3cc9-4e2b-996d-f98a460399dd",
   "metadata": {},
   "source": [
    "# Get Elements_properties_list"
   ]
  },
  {
   "cell_type": "code",
   "execution_count": 32,
   "id": "0ed1ead1-bcb2-4878-b504-faba6989eef1",
   "metadata": {},
   "outputs": [
    {
     "name": "stdout",
     "output_type": "stream",
     "text": [
      "                                                 url        id Locality  \\\n",
      "0  https://www.immoweb.be/en/classified/house/for...  10008022     1050   \n",
      "1      https://www.immoweb.be/en/classified/10125449  10125449     1070   \n",
      "\n",
      "  Type of property Subtype of property      Price      Type of sale  \\\n",
      "0            HOUSE               HOUSE  1790000.0  residential_sale   \n",
      "1  APARTMENT_GROUP     APARTMENT_GROUP        NaN        group_sale   \n",
      "\n",
      "   Number of rooms  Area Fully equipped kitchen  ...  Open fire  Terrace  \\\n",
      "0              5.0  None     USA_HYPER_EQUIPPED  ...      False     True   \n",
      "1              NaN  None                   None  ...      False     None   \n",
      "\n",
      "  Terrace area Garden Garden area  Surface of the land  \\\n",
      "0         None   True       140.0                290.0   \n",
      "1         None   None         NaN                  NaN   \n",
      "\n",
      "   Surface area of the plot of land  Number of facades   Swimming pool  \\\n",
      "0                             290.0                   2          False   \n",
      "1                               NaN                   1           None   \n",
      "\n",
      "  State of the building  \n",
      "0                AS_NEW  \n",
      "1                  None  \n",
      "\n",
      "[2 rows x 21 columns]\n"
     ]
    }
   ],
   "source": [
    "data_main_list = list()\n",
    "for index,element in enumerate(main_dictionary.values()):\n",
    "    element_data = {\n",
    "    'url': list(main_dictionary.keys())[index],\n",
    "    'id': element['id'],\n",
    "    'Locality': element['property']['location']['postalCode'] if element['property']['location'] is not None else None,\n",
    "    'Type of property': element['property']['type'] if element['property']['type'] is not None else None,\n",
    "    'Subtype of property': element['property']['subtype'] if element['property']['subtype'] is not None else None,\n",
    "    'Price': element['price']['mainValue'] if element['price'] is not None else None,\n",
    "    'Type of sale': element['price']['type'] if element['price'] is not None else None,\n",
    "    'Number of rooms': element['property']['roomCount'] if element['property']  is not None else None,\n",
    "    'Area': element['property']['netHabitableSurface'] if element['property'] is not None else None,\n",
    "    'Fully equipped kitchen': element['property']['kitchen']['type'] if element['property']['kitchen'] is not None else None,\n",
    "    'Furnished': element['transaction']['sale']['isFurnished'] if element['transaction']['sale'] is not None else None,\n",
    "    'Open fire': element['property']['fireplaceExists'] if element['property'] is not None else None,\n",
    "    'Terrace': element['property']['hasTerrace'] if element['property'] is not None else None,\n",
    "    'Terrace area': element['property']['terraceSurface'] if element['property'] is not None else None,\n",
    "    'Garden': element['property']['hasGarden'] if element['property'] is not None else None,\n",
    "    'Garden area': element['property']['gardenSurface'] if element['property'] is not None else None,\n",
    "    'Surface of the land': element['property']['land']['surface'] if element['property']['land'] is not None else None,\n",
    "    'Surface area of the plot of land': element['property']['land']['surface'] if element['property']['land'] is not None else None,\n",
    "    'Number of facades ': element['property']['building']['facadeCount'] if element['property']['building'] is not None else 1,\n",
    "    'Swimming pool': element['property']['hasSwimmingPool'] if element['property'] is not None else None,\n",
    "    'State of the building': element['property']['building']['condition'] if element['property']['building'] is not None else None\n",
    "    }\n",
    "    df = pd.DataFrame(list1)\n",
    "    df.to_csv(\"df_immo.csv\")\n",
    "    data_main_list.append(element_data)\n",
    "print(df.head())"
   ]
  },
  {
   "cell_type": "code",
   "execution_count": 33,
   "id": "eb9a8f10-6954-4bac-9133-f024902a3c85",
   "metadata": {
    "tags": []
   },
   "outputs": [
    {
     "name": "stdout",
     "output_type": "stream",
     "text": [
      "[{'url': 'https://www.immoweb.be/en/classified/house/for-sale/ixelles/1050/10008022?searchId=6336981899ac0', 'id': 10008022, 'Locality': '1050', 'Type of property': 'HOUSE', 'Subtype of property': 'HOUSE', 'Price': 1790000, 'Type of sale': 'residential_sale', 'Number of rooms': 5, 'Area': None, 'Fully equipped kitchen': 'USA_HYPER_EQUIPPED', 'Furnished': False, 'Open fire': False, 'Terrace': True, 'Terrace area': None, 'Garden': True, 'Garden area': 140, 'Surface of the land': 290, 'Surface area of the plot of land': 290, 'Number of facades ': 2, 'Swimming pool': False, 'State of the building': 'AS_NEW'}, {'url': 'https://www.immoweb.be/en/classified/10125449', 'id': 10125449, 'Locality': '1070', 'Type of property': 'APARTMENT_GROUP', 'Subtype of property': 'APARTMENT_GROUP', 'Price': None, 'Type of sale': 'group_sale', 'Number of rooms': None, 'Area': None, 'Fully equipped kitchen': None, 'Furnished': False, 'Open fire': False, 'Terrace': None, 'Terrace area': None, 'Garden': None, 'Garden area': None, 'Surface of the land': None, 'Surface area of the plot of land': None, 'Number of facades ': 1, 'Swimming pool': None, 'State of the building': None}, {'url': 'https://www.immoweb.be/en/classified/apartment/for-sale/ixelles/1050/10141214?searchId=6336981899ac0', 'id': 10141214, 'Locality': '1050', 'Type of property': 'APARTMENT', 'Subtype of property': 'APARTMENT', 'Price': 1995000, 'Type of sale': 'residential_sale', 'Number of rooms': 7, 'Area': 277, 'Fully equipped kitchen': 'USA_HYPER_EQUIPPED', 'Furnished': False, 'Open fire': True, 'Terrace': True, 'Terrace area': 87, 'Garden': None, 'Garden area': None, 'Surface of the land': None, 'Surface area of the plot of land': None, 'Number of facades ': 4, 'Swimming pool': False, 'State of the building': 'JUST_RENOVATED'}, {'url': 'https://www.immoweb.be/en/classified/apartment/for-sale/woluwe-st-lambert/1200/10052020?searchId=6336981899ac0', 'id': 10052020, 'Locality': '1200', 'Type of property': 'APARTMENT', 'Subtype of property': 'APARTMENT', 'Price': 249000, 'Type of sale': 'residential_sale', 'Number of rooms': None, 'Area': 68, 'Fully equipped kitchen': 'INSTALLED', 'Furnished': False, 'Open fire': False, 'Terrace': None, 'Terrace area': None, 'Garden': None, 'Garden area': None, 'Surface of the land': None, 'Surface area of the plot of land': None, 'Number of facades ': None, 'Swimming pool': False, 'State of the building': 'TO_BE_DONE_UP'}, {'url': 'https://www.immoweb.be/en/classified/new-real-estate-project-apartments/for-sale/gent/9000/10140797?searchId=6336981899ac0', 'id': 10140797, 'Locality': '9000', 'Type of property': 'APARTMENT_GROUP', 'Subtype of property': 'APARTMENT_GROUP', 'Price': None, 'Type of sale': 'group_sale', 'Number of rooms': None, 'Area': None, 'Fully equipped kitchen': None, 'Furnished': None, 'Open fire': False, 'Terrace': None, 'Terrace area': None, 'Garden': None, 'Garden area': None, 'Surface of the land': None, 'Surface area of the plot of land': None, 'Number of facades ': 1, 'Swimming pool': None, 'State of the building': None}, {'url': 'https://www.immoweb.be/en/classified/new-real-estate-project-apartments/for-sale/roeselare/8800/10140738?searchId=6336981899ac0', 'id': 10140738, 'Locality': '8800', 'Type of property': 'APARTMENT_GROUP', 'Subtype of property': 'APARTMENT_GROUP', 'Price': None, 'Type of sale': 'group_sale', 'Number of rooms': None, 'Area': None, 'Fully equipped kitchen': None, 'Furnished': None, 'Open fire': False, 'Terrace': None, 'Terrace area': None, 'Garden': None, 'Garden area': None, 'Surface of the land': None, 'Surface area of the plot of land': None, 'Number of facades ': 1, 'Swimming pool': None, 'State of the building': None}, {'url': 'https://www.immoweb.be/en/classified/house/for-sale/remicourt/4350/10140833?searchId=6336981899ac0', 'id': 10140833, 'Locality': '4350', 'Type of property': 'HOUSE', 'Subtype of property': 'HOUSE', 'Price': 300000, 'Type of sale': 'residential_sale', 'Number of rooms': None, 'Area': 125, 'Fully equipped kitchen': 'INSTALLED', 'Furnished': False, 'Open fire': False, 'Terrace': True, 'Terrace area': 20, 'Garden': True, 'Garden area': 540, 'Surface of the land': 714, 'Surface area of the plot of land': 714, 'Number of facades ': 4, 'Swimming pool': False, 'State of the building': 'GOOD'}, {'url': 'https://www.immoweb.be/en/classified/apartment/for-sale/woluwe-saint-lambert/1200/10140583?searchId=6336981899ac0', 'id': 10140583, 'Locality': '1200', 'Type of property': 'APARTMENT', 'Subtype of property': 'APARTMENT', 'Price': 340000, 'Type of sale': 'residential_sale', 'Number of rooms': None, 'Area': 110, 'Fully equipped kitchen': 'SEMI_EQUIPPED', 'Furnished': False, 'Open fire': False, 'Terrace': True, 'Terrace area': 8, 'Garden': None, 'Garden area': None, 'Surface of the land': None, 'Surface area of the plot of land': None, 'Number of facades ': 2, 'Swimming pool': False, 'State of the building': 'GOOD'}, {'url': 'https://www.immoweb.be/en/classified/apartment/for-sale/deinze/9800/10130388?searchId=6336981899ac0', 'id': 10130388, 'Locality': '9800', 'Type of property': 'APARTMENT', 'Subtype of property': 'APARTMENT', 'Price': 375000, 'Type of sale': 'residential_sale', 'Number of rooms': None, 'Area': 91, 'Fully equipped kitchen': 'HYPER_EQUIPPED', 'Furnished': False, 'Open fire': False, 'Terrace': True, 'Terrace area': 12, 'Garden': None, 'Garden area': None, 'Surface of the land': None, 'Surface area of the plot of land': None, 'Number of facades ': 2, 'Swimming pool': False, 'State of the building': 'AS_NEW'}, {'url': 'https://www.immoweb.be/en/classified/apartment/for-sale/kessel-lo/3010/10142174?searchId=6336981899ac0', 'id': 10142174, 'Locality': '3010', 'Type of property': 'APARTMENT', 'Subtype of property': 'APARTMENT', 'Price': 410000, 'Type of sale': 'residential_sale', 'Number of rooms': None, 'Area': 105, 'Fully equipped kitchen': 'INSTALLED', 'Furnished': False, 'Open fire': False, 'Terrace': True, 'Terrace area': None, 'Garden': None, 'Garden area': None, 'Surface of the land': None, 'Surface area of the plot of land': None, 'Number of facades ': 2, 'Swimming pool': None, 'State of the building': 'GOOD'}, {'url': 'https://www.immoweb.be/en/classified/new-real-estate-project-houses/for-sale/opwijk/1745/10140459?searchId=6336981899ac0', 'id': 10140459, 'Locality': '1745', 'Type of property': 'HOUSE_GROUP', 'Subtype of property': 'HOUSE_GROUP', 'Price': None, 'Type of sale': 'group_sale', 'Number of rooms': None, 'Area': None, 'Fully equipped kitchen': None, 'Furnished': None, 'Open fire': False, 'Terrace': None, 'Terrace area': None, 'Garden': None, 'Garden area': None, 'Surface of the land': None, 'Surface area of the plot of land': None, 'Number of facades ': 1, 'Swimming pool': None, 'State of the building': None}, {'url': 'https://www.immoweb.be/en/classified/house/for-sale/ronse/9600/10140837?searchId=6336981899ac0', 'id': 10140837, 'Locality': '9600', 'Type of property': 'HOUSE', 'Subtype of property': 'HOUSE', 'Price': 129000, 'Type of sale': 'residential_sale', 'Number of rooms': None, 'Area': 165, 'Fully equipped kitchen': 'NOT_INSTALLED', 'Furnished': False, 'Open fire': False, 'Terrace': None, 'Terrace area': None, 'Garden': True, 'Garden area': 430, 'Surface of the land': 610, 'Surface area of the plot of land': 610, 'Number of facades ': 2, 'Swimming pool': False, 'State of the building': 'TO_RENOVATE'}, {'url': 'https://www.immoweb.be/en/classified/new-real-estate-project-apartments/for-sale/brussels-city/1000/9881253?searchId=6336981899ac0', 'id': 9881253, 'Locality': '1000', 'Type of property': 'APARTMENT_GROUP', 'Subtype of property': 'APARTMENT_GROUP', 'Price': None, 'Type of sale': 'group_sale', 'Number of rooms': None, 'Area': None, 'Fully equipped kitchen': None, 'Furnished': None, 'Open fire': False, 'Terrace': None, 'Terrace area': None, 'Garden': None, 'Garden area': None, 'Surface of the land': None, 'Surface area of the plot of land': None, 'Number of facades ': 1, 'Swimming pool': None, 'State of the building': None}, {'url': 'https://www.immoweb.be/en/classified/duplex/for-sale/wichelen/9260/10138456?searchId=6336981899ac0', 'id': 10138456, 'Locality': '9260', 'Type of property': 'APARTMENT', 'Subtype of property': 'DUPLEX', 'Price': 225000, 'Type of sale': 'residential_sale', 'Number of rooms': None, 'Area': 70, 'Fully equipped kitchen': 'INSTALLED', 'Furnished': False, 'Open fire': False, 'Terrace': True, 'Terrace area': 5, 'Garden': None, 'Garden area': None, 'Surface of the land': None, 'Surface area of the plot of land': None, 'Number of facades ': 2, 'Swimming pool': False, 'State of the building': 'AS_NEW'}, {'url': 'https://www.immoweb.be/en/classified/new-real-estate-project-apartments/for-sale/zedelgem/8210/10074861?searchId=6336981899ac0', 'id': 10074861, 'Locality': '8210', 'Type of property': 'APARTMENT_GROUP', 'Subtype of property': 'APARTMENT_GROUP', 'Price': None, 'Type of sale': 'group_sale', 'Number of rooms': None, 'Area': None, 'Fully equipped kitchen': None, 'Furnished': False, 'Open fire': False, 'Terrace': None, 'Terrace area': None, 'Garden': None, 'Garden area': None, 'Surface of the land': None, 'Surface area of the plot of land': None, 'Number of facades ': 1, 'Swimming pool': None, 'State of the building': None}, {'url': 'https://www.immoweb.be/en/classified/new-real-estate-project-apartments/for-sale/wondelgem/9032/10139511?searchId=6336981899ac0', 'id': 10139511, 'Locality': '9032', 'Type of property': 'APARTMENT_GROUP', 'Subtype of property': 'APARTMENT_GROUP', 'Price': None, 'Type of sale': 'group_sale', 'Number of rooms': None, 'Area': None, 'Fully equipped kitchen': None, 'Furnished': False, 'Open fire': False, 'Terrace': None, 'Terrace area': None, 'Garden': None, 'Garden area': None, 'Surface of the land': None, 'Surface area of the plot of land': None, 'Number of facades ': 1, 'Swimming pool': None, 'State of the building': None}, {'url': 'https://www.immoweb.be/en/classified/apartment/for-sale/leuven/3010/10138534?searchId=6336981899ac0', 'id': 10138534, 'Locality': '3010', 'Type of property': 'APARTMENT', 'Subtype of property': 'APARTMENT', 'Price': 310000, 'Type of sale': 'residential_sale', 'Number of rooms': None, 'Area': 103, 'Fully equipped kitchen': 'SEMI_EQUIPPED', 'Furnished': False, 'Open fire': False, 'Terrace': True, 'Terrace area': 30, 'Garden': None, 'Garden area': None, 'Surface of the land': None, 'Surface area of the plot of land': None, 'Number of facades ': 2, 'Swimming pool': None, 'State of the building': 'GOOD'}, {'url': 'https://www.immoweb.be/en/classified/new-real-estate-project-apartments/for-sale/schilde/2970/10139639?searchId=6336981899ac0', 'id': 10139639, 'Locality': '2970', 'Type of property': 'APARTMENT_GROUP', 'Subtype of property': 'APARTMENT_GROUP', 'Price': None, 'Type of sale': 'group_sale', 'Number of rooms': None, 'Area': None, 'Fully equipped kitchen': None, 'Furnished': False, 'Open fire': False, 'Terrace': None, 'Terrace area': None, 'Garden': None, 'Garden area': None, 'Surface of the land': None, 'Surface area of the plot of land': None, 'Number of facades ': 1, 'Swimming pool': None, 'State of the building': None}, {'url': 'https://www.immoweb.be/en/classified/house/for-sale/ronse/9600/10138497?searchId=6336981899ac0', 'id': 10138497, 'Locality': '9600', 'Type of property': 'HOUSE', 'Subtype of property': 'HOUSE', 'Price': 359000, 'Type of sale': 'residential_sale', 'Number of rooms': None, 'Area': 182, 'Fully equipped kitchen': 'HYPER_EQUIPPED', 'Furnished': False, 'Open fire': False, 'Terrace': True, 'Terrace area': 25, 'Garden': True, 'Garden area': 952, 'Surface of the land': 1424, 'Surface area of the plot of land': 1424, 'Number of facades ': 3, 'Swimming pool': False, 'State of the building': 'AS_NEW'}, {'url': 'https://www.immoweb.be/en/classified/apartment/for-sale/wezembeek-oppem/1970/10140213?searchId=6336981899ac0', 'id': 10140213, 'Locality': '1970', 'Type of property': 'APARTMENT', 'Subtype of property': 'APARTMENT', 'Price': 390000, 'Type of sale': 'residential_sale', 'Number of rooms': None, 'Area': 88, 'Fully equipped kitchen': 'USA_INSTALLED', 'Furnished': None, 'Open fire': False, 'Terrace': True, 'Terrace area': 8, 'Garden': None, 'Garden area': None, 'Surface of the land': None, 'Surface area of the plot of land': None, 'Number of facades ': 1, 'Swimming pool': False, 'State of the building': 'JUST_RENOVATED'}, {'url': 'https://www.immoweb.be/en/classified/new-real-estate-project-houses/for-sale/wetteren/9230/10138446?searchId=6336981899ac0', 'id': 10138446, 'Locality': '9230', 'Type of property': 'HOUSE_GROUP', 'Subtype of property': 'HOUSE_GROUP', 'Price': None, 'Type of sale': 'group_sale', 'Number of rooms': None, 'Area': None, 'Fully equipped kitchen': None, 'Furnished': None, 'Open fire': False, 'Terrace': None, 'Terrace area': None, 'Garden': None, 'Garden area': None, 'Surface of the land': None, 'Surface area of the plot of land': None, 'Number of facades ': 1, 'Swimming pool': None, 'State of the building': None}, {'url': 'https://www.immoweb.be/en/classified/new-real-estate-project-apartments/for-sale/bruxelles/1000/10092917?searchId=6336981899ac0', 'id': 10092917, 'Locality': '1000', 'Type of property': 'APARTMENT_GROUP', 'Subtype of property': 'APARTMENT_GROUP', 'Price': None, 'Type of sale': 'group_sale', 'Number of rooms': None, 'Area': None, 'Fully equipped kitchen': None, 'Furnished': None, 'Open fire': False, 'Terrace': None, 'Terrace area': None, 'Garden': None, 'Garden area': None, 'Surface of the land': None, 'Surface area of the plot of land': None, 'Number of facades ': 1, 'Swimming pool': None, 'State of the building': None}, {'url': 'https://www.immoweb.be/en/classified/new-real-estate-project-apartments/for-sale/uccle/1180/10138601?searchId=6336981899ac0', 'id': 10138601, 'Locality': '1180', 'Type of property': 'APARTMENT_GROUP', 'Subtype of property': 'APARTMENT_GROUP', 'Price': None, 'Type of sale': 'group_sale', 'Number of rooms': None, 'Area': None, 'Fully equipped kitchen': None, 'Furnished': None, 'Open fire': False, 'Terrace': None, 'Terrace area': None, 'Garden': None, 'Garden area': None, 'Surface of the land': None, 'Surface area of the plot of land': None, 'Number of facades ': 1, 'Swimming pool': None, 'State of the building': None}, {'url': 'https://www.immoweb.be/en/classified/apartment/for-sale/woluwe-saint-lambert/1200/10138633?searchId=6336981899ac0', 'id': 10138633, 'Locality': '1200', 'Type of property': 'APARTMENT', 'Subtype of property': 'APARTMENT', 'Price': 595000, 'Type of sale': 'residential_sale', 'Number of rooms': None, 'Area': 120, 'Fully equipped kitchen': 'USA_HYPER_EQUIPPED', 'Furnished': False, 'Open fire': False, 'Terrace': True, 'Terrace area': 13, 'Garden': None, 'Garden area': None, 'Surface of the land': None, 'Surface area of the plot of land': None, 'Number of facades ': None, 'Swimming pool': False, 'State of the building': 'AS_NEW'}, {'url': 'https://www.immoweb.be/en/classified/mixed-use-building/for-sale/grimbergen/1850/10138527?searchId=6336981899ac0', 'id': 10138527, 'Locality': '1850', 'Type of property': 'HOUSE', 'Subtype of property': 'MIXED_USE_BUILDING', 'Price': 595000, 'Type of sale': 'residential_sale', 'Number of rooms': None, 'Area': 270, 'Fully equipped kitchen': 'SEMI_EQUIPPED', 'Furnished': False, 'Open fire': False, 'Terrace': None, 'Terrace area': None, 'Garden': True, 'Garden area': 400, 'Surface of the land': 1205, 'Surface area of the plot of land': 1205, 'Number of facades ': 3, 'Swimming pool': None, 'State of the building': 'TO_RENOVATE'}, {'url': 'https://www.immoweb.be/en/classified/penthouse/for-sale/schaerbeek/1030/10142207?searchId=6336981899ac0', 'id': 10142207, 'Locality': '1030', 'Type of property': 'APARTMENT', 'Subtype of property': 'PENTHOUSE', 'Price': 849000, 'Type of sale': 'residential_sale', 'Number of rooms': None, 'Area': 190, 'Fully equipped kitchen': 'HYPER_EQUIPPED', 'Furnished': False, 'Open fire': False, 'Terrace': True, 'Terrace area': 32, 'Garden': None, 'Garden area': None, 'Surface of the land': None, 'Surface area of the plot of land': None, 'Number of facades ': 2, 'Swimming pool': False, 'State of the building': 'GOOD'}, {'url': 'https://www.immoweb.be/en/classified/apartment-block/for-sale/ixelles/1050/10138311?searchId=6336981899ac0', 'id': 10138311, 'Locality': '1050', 'Type of property': 'HOUSE', 'Subtype of property': 'APARTMENT_BLOCK', 'Price': 1000000, 'Type of sale': 'residential_sale', 'Number of rooms': None, 'Area': 340, 'Fully equipped kitchen': 'HYPER_EQUIPPED', 'Furnished': False, 'Open fire': False, 'Terrace': True, 'Terrace area': 30, 'Garden': True, 'Garden area': 145, 'Surface of the land': 285, 'Surface area of the plot of land': 285, 'Number of facades ': 2, 'Swimming pool': False, 'State of the building': 'GOOD'}, {'url': 'https://www.immoweb.be/en/classified/flat-studio/for-sale/huy/4500/10137075?searchId=6336981899ac0', 'id': 10137075, 'Locality': '4500', 'Type of property': 'APARTMENT', 'Subtype of property': 'FLAT_STUDIO', 'Price': 89000, 'Type of sale': 'residential_sale', 'Number of rooms': None, 'Area': 38, 'Fully equipped kitchen': 'SEMI_EQUIPPED', 'Furnished': False, 'Open fire': False, 'Terrace': None, 'Terrace area': None, 'Garden': None, 'Garden area': None, 'Surface of the land': None, 'Surface area of the plot of land': None, 'Number of facades ': 4, 'Swimming pool': None, 'State of the building': 'TO_BE_DONE_UP'}, {'url': 'https://www.immoweb.be/en/classified/new-real-estate-project-apartments/for-sale/brasschaat/2930/10137774?searchId=6336981899ac0', 'id': 10137774, 'Locality': '2930', 'Type of property': 'APARTMENT_GROUP', 'Subtype of property': 'APARTMENT_GROUP', 'Price': None, 'Type of sale': 'group_sale', 'Number of rooms': None, 'Area': None, 'Fully equipped kitchen': None, 'Furnished': False, 'Open fire': False, 'Terrace': None, 'Terrace area': None, 'Garden': None, 'Garden area': None, 'Surface of the land': None, 'Surface area of the plot of land': None, 'Number of facades ': 1, 'Swimming pool': None, 'State of the building': None}, {'url': 'https://www.immoweb.be/en/classified/flat-studio/for-sale/schaerbeek/1030/10137594?searchId=6336981899ac0', 'id': 10137594, 'Locality': '1030', 'Type of property': 'APARTMENT', 'Subtype of property': 'FLAT_STUDIO', 'Price': 195000, 'Type of sale': 'residential_sale', 'Number of rooms': None, 'Area': 40, 'Fully equipped kitchen': 'USA_SEMI_EQUIPPED', 'Furnished': False, 'Open fire': False, 'Terrace': True, 'Terrace area': 2, 'Garden': None, 'Garden area': None, 'Surface of the land': None, 'Surface area of the plot of land': None, 'Number of facades ': 2, 'Swimming pool': False, 'State of the building': 'JUST_RENOVATED'}, {'url': 'https://www.immoweb.be/en/classified/new-real-estate-project-apartments/for-sale/anderlecht/1070/10137324?searchId=6336981899ac0', 'id': 10137324, 'Locality': '1070', 'Type of property': 'APARTMENT_GROUP', 'Subtype of property': 'APARTMENT_GROUP', 'Price': None, 'Type of sale': 'group_sale', 'Number of rooms': None, 'Area': None, 'Fully equipped kitchen': None, 'Furnished': None, 'Open fire': False, 'Terrace': None, 'Terrace area': None, 'Garden': None, 'Garden area': None, 'Surface of the land': None, 'Surface area of the plot of land': None, 'Number of facades ': 1, 'Swimming pool': None, 'State of the building': None}]\n"
     ]
    }
   ],
   "source": [
    "print (data_main_list)"
   ]
  },
  {
   "cell_type": "markdown",
   "id": "2a4b05e2-b015-44a7-be09-efc130655c74",
   "metadata": {},
   "source": [
    "# Save information into CSV"
   ]
  },
  {
   "cell_type": "code",
   "execution_count": 56,
   "id": "4f53b10c-0d10-46c5-8fc9-665c65b830e9",
   "metadata": {},
   "outputs": [
    {
     "name": "stdout",
     "output_type": "stream",
     "text": [
      "2\n",
      "3\n",
      "4\n",
      "5\n",
      "6\n",
      "7\n",
      "8\n",
      "9\n",
      "10\n",
      "11\n",
      "12\n",
      "13\n",
      "14\n",
      "15\n",
      "16\n",
      "17\n",
      "18\n",
      "19\n",
      "20\n",
      "21\n",
      "22\n",
      "23\n",
      "24\n",
      "25\n",
      "26\n",
      "27\n",
      "28\n",
      "29\n",
      "30\n"
     ]
    }
   ],
   "source": [
    "import csv\n",
    "\n",
    "def main(list_dict):\n",
    "    \"\"\"a function that prints a csv starting from a dictionarires list \n",
    "        main(list_dict) \"\"\"\n",
    "    df = pd.DataFrame([list_dict[0],list_dict[1]])\n",
    "    # we need at least 2 dict to create a csv file, so I made one with \"list1\" (a list with the first 2 links that I have)\n",
    "    df.to_csv(\"df_immo.csv\", index=False)\n",
    "    for i in  range(2, len(data_main_list)): #\n",
    "        #open csv in append mode (\"a\")\n",
    "        file = open('df_immo.csv', \"a\")\n",
    "        #use csv library to add a row to the csv file. The row has to be in a list format, so I've used the .values() method of the ditionary class\n",
    "        csv.writer(file).writerow(data_main_list[i].values())\n",
    "        print(i)\n",
    "    #at the end close the csv file\n",
    "    file.close\n",
    "\n",
    "main(data_main_list)\n",
    "\n",
    "\n"
   ]
  },
  {
   "cell_type": "code",
   "execution_count": null,
   "id": "abc23ea1",
   "metadata": {},
   "outputs": [],
   "source": []
  }
 ],
 "metadata": {
  "kernelspec": {
   "display_name": "Python 3.10.4 ('Power_BI_env': venv)",
   "language": "python",
   "name": "python3"
  },
  "language_info": {
   "codemirror_mode": {
    "name": "ipython",
    "version": 3
   },
   "file_extension": ".py",
   "mimetype": "text/x-python",
   "name": "python",
   "nbconvert_exporter": "python",
   "pygments_lexer": "ipython3",
   "version": "3.10.4"
  },
  "vscode": {
   "interpreter": {
    "hash": "28a170901ffbce9d43474dd5b7139e2199766745f733c7c831d302ebf1809348"
   }
  }
 },
 "nbformat": 4,
 "nbformat_minor": 5
}
