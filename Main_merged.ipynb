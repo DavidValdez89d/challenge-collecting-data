{
 "cells": [
  {
   "cell_type": "markdown",
   "id": "03e75e5d-6768-4e02-ae19-589e15fdfe34",
   "metadata": {},
   "source": [
    "# Import libraries"
   ]
  },
  {
   "cell_type": "code",
   "execution_count": 1,
   "id": "261f0753-4600-4679-9908-192f624a7485",
   "metadata": {},
   "outputs": [],
   "source": [
    "import time\n",
    "import requests\n",
    "from selenium import webdriver\n",
    "from selenium.webdriver.common.keys import Keys\n",
    "from selenium.webdriver.common.by import By\n",
    "import concurrent.futures\n",
    "from bs4 import BeautifulSoup\n",
    "import json\n",
    "import pandas as pd\n",
    "import csv"
   ]
  },
  {
   "cell_type": "code",
   "execution_count": 2,
   "id": "10aeb0c7-2865-4332-aaf5-1c45e301264b",
   "metadata": {},
   "outputs": [],
   "source": [
    "main_start = time.time()"
   ]
  },
  {
   "cell_type": "markdown",
   "id": "56e2af8c-c0a7-4755-877b-12bea3c19661",
   "metadata": {},
   "source": [
    "# Store Information"
   ]
  },
  {
   "cell_type": "code",
   "execution_count": 3,
   "id": "160027bc-fd9e-4821-a0ca-3f377f56476e",
   "metadata": {},
   "outputs": [],
   "source": [
    "get_urls_list = []\n",
    "raw_urls_list = []\n",
    "clean_urls_list = []\n",
    "raw_element_dictionary = dict()\n",
    "df_element_list = list()"
   ]
  },
  {
   "cell_type": "markdown",
   "id": "6003f071-b2bf-49fe-aa03-c3dad76c1d00",
   "metadata": {},
   "source": [
    "# Open driver"
   ]
  },
  {
   "cell_type": "code",
   "execution_count": 4,
   "id": "a9e7b414-3f61-460b-b446-ac0791e27f50",
   "metadata": {},
   "outputs": [],
   "source": [
    "session = requests.Session()\n",
    "driver = webdriver.Chrome()"
   ]
  },
  {
   "cell_type": "markdown",
   "id": "e15ca5f8-69f0-4206-baf1-113e4c31f994",
   "metadata": {},
   "source": [
    "# Save CSV Func"
   ]
  },
  {
   "cell_type": "code",
   "execution_count": 5,
   "id": "6de32f7a-aad7-4e1e-81e5-831b24e21afc",
   "metadata": {},
   "outputs": [],
   "source": [
    "def save_to_csv(info_dict_list,file_name):\n",
    "    \"\"\"a function that prints a csv starting from a dictionarires list \n",
    "        main(list_dict) \"\"\"\n",
    "    # we need at least 2 dict to create a csv file, so I made a df from 2 dict (the first 2 dict that I have)\n",
    "    df = pd.DataFrame([info_dict_list[0],info_dict_list[1]])\n",
    "    df.to_csv(file_name, index=False)\n",
    "    #\n",
    "    for i in  range(2, len(info_dict_list)): #\n",
    "        df = pd.read_csv(file_name)\n",
    "        #I don't know if we are already cheacking for duplicates, but this will do that\n",
    "        if info_dict_list[i][\"id\"] not in df[\"id\"].array:\n",
    "            #open csv in append mode (\"a\")\n",
    "            file = open(file_name, \"a\")\n",
    "            #use csv library to add a row to the csv file. The row has to be in a list format, so I've used the .values() method of the ditionary class\n",
    "            csv.writer(file).writerow(info_dict_list[i].values())           \n",
    "    #at the end close the csv file\n",
    "    file.close"
   ]
  },
  {
   "cell_type": "markdown",
   "id": "aa4d08c3-ad1e-438c-83c9-254574ebdb98",
   "metadata": {},
   "source": [
    "# Get Urls_scrape_list"
   ]
  },
  {
   "cell_type": "code",
   "execution_count": 6,
   "id": "45a1d922-81b3-400b-8049-828a6fe71d69",
   "metadata": {},
   "outputs": [],
   "source": [
    "property_type = ['house', 'apartment']\n",
    "for x in range(1,4):\n",
    "    for type in property_type:\n",
    "        urls = f'https://www.immoweb.be/en/search/{type}/for-sale?countries=BE&page={x}&orderBy=relevance'\n",
    "        get_urls_list.append(urls)"
   ]
  },
  {
   "cell_type": "markdown",
   "id": "22976f19-e259-44d9-8c93-3afb1c856fcc",
   "metadata": {},
   "source": [
    "# Get elements Urls list"
   ]
  },
  {
   "cell_type": "code",
   "execution_count": 7,
   "id": "0a6b4cc7-718f-48f3-9284-c14d39698a66",
   "metadata": {},
   "outputs": [],
   "source": [
    "def get_elements_urls_list(url):\n",
    "    #Open the page\n",
    "    driver.get(url)\n",
    "    page_source = driver.page_source\n",
    "    soup = BeautifulSoup(page_source,'html.parser')\n",
    "    \n",
    "    #Get the soup\n",
    "    s_links = soup.select('li.search-results__item a')\n",
    "    #Get the links\n",
    "    \n",
    "    for element in s_links:\n",
    "        link = element[\"href\"]\n",
    "        #clean the links\n",
    "        if '/agency' in link or '/en/classified/' not in link: \n",
    "            pass\n",
    "\n",
    "        elif 'https://www.immoweb.be' not in link:\n",
    "            link = 'https://www.immoweb.be' + link\n",
    "            if link not in clean_urls_list:\n",
    "                clean_urls_list.append(link)\n",
    "        else:\n",
    "            if link not in clean_urls_list:\n",
    "                clean_urls_list.append(link)\n",
    "    return"
   ]
  },
  {
   "cell_type": "code",
   "execution_count": 8,
   "id": "73591f83-72fd-4570-9d01-009bf4731c53",
   "metadata": {},
   "outputs": [],
   "source": [
    "with concurrent.futures.ThreadPoolExecutor() as executor:\n",
    "    executor.map(get_elements_urls_list,get_urls_list)"
   ]
  },
  {
   "cell_type": "code",
   "execution_count": 9,
   "id": "0777dfb7-81ef-4461-bd41-d4e9328c9530",
   "metadata": {},
   "outputs": [
    {
     "name": "stdout",
     "output_type": "stream",
     "text": [
      "61\n",
      "['https://www.immoweb.be/en/classified/house/for-sale/evere/1140/10134094?searchId=633ad23ea8643', 'https://www.immoweb.be/en/classified/8556707', 'https://www.immoweb.be/en/classified/house/for-sale/roosdaal/1760/10143558?searchId=633ad23ea8643', 'https://www.immoweb.be/en/classified/apartment-block/for-sale/forest/1190/10142968?searchId=633ad23ea8643', 'https://www.immoweb.be/en/classified/house/for-sale/zottegem/9620/10126151?searchId=633ad23ea8643', 'https://www.immoweb.be/en/classified/new-real-estate-project-houses/for-sale/herenthout/2270/10127053?searchId=633ad23ea8643', 'https://www.immoweb.be/en/classified/villa/for-sale/rixensart/1330/10127823?searchId=633ad23ea8643', 'https://www.immoweb.be/en/classified/house/for-sale/grez-doiceau/1390/10127813?searchId=633ad23ea8643', 'https://www.immoweb.be/en/classified/house/for-sale/ixelles/1050/10088204?searchId=633ad23ea8643', 'https://www.immoweb.be/en/classified/house/for-sale/tervuren/3080/10126511?searchId=633ad23ea8643', 'https://www.immoweb.be/en/classified/other-property/for-sale/rendeux/6987/10136523?searchId=633ad23ea8643', 'https://www.immoweb.be/en/classified/house/for-sale/ronse/9600/10140836?searchId=633ad23ea8643', 'https://www.immoweb.be/en/classified/house/for-sale/dworp/1653/10142388?searchId=633ad23ea8643', 'https://www.immoweb.be/en/classified/house/for-sale/jette/1090/10142685?searchId=633ad23ea8643', 'https://www.immoweb.be/en/classified/house/for-sale/bornival/1404/10145131?searchId=633ad23ea8643', 'https://www.immoweb.be/en/classified/house/for-sale/auderghem/1160/10145138?searchId=633ad23ea8643', 'https://www.immoweb.be/en/classified/villa/for-sale/lasne/1380/10145935?searchId=633ad23ea8643', 'https://www.immoweb.be/en/classified/new-real-estate-project-houses/for-sale/gent-sint-amandsberg/9040/10123455?searchId=633ad23ea8643', 'https://www.immoweb.be/en/classified/apartment-block/for-sale/bruxelles/1000/10123715?searchId=633ad23ea8643', 'https://www.immoweb.be/en/classified/house/for-sale/gavere/9890/10084879?searchId=633ad23ea8643', 'https://www.immoweb.be/en/classified/house/for-sale/gavere/9890/10084878?searchId=633ad23ea8643', 'https://www.immoweb.be/en/classified/house/for-sale/gavere/9890/10084880?searchId=633ad23ea8643', 'https://www.immoweb.be/en/classified/house/for-sale/gavere/9890/10084877?searchId=633ad23ea8643', 'https://www.immoweb.be/en/classified/house/for-sale/affligem/1790/9651402?searchId=633ad23ea8643', 'https://www.immoweb.be/en/classified/house/for-sale/alsemberg/1652/10134578?searchId=633ad23ea8643', 'https://www.immoweb.be/en/classified/house/for-sale/sint-baafs-vijve/8710/10144445?searchId=633ad23ea8643', 'https://www.immoweb.be/en/classified/villa/for-sale/mol/2400/10143183?searchId=633ad23ea8643', 'https://www.immoweb.be/en/classified/house/for-sale/kapellen/2950/10143853?searchId=633ad23ea8643', 'https://www.immoweb.be/en/classified/house/for-sale/grez-doiceau/1390/10146649?searchId=633ad23ea8643', 'https://www.immoweb.be/en/classified/house/for-sale/saint-hubert/6870/10121408?searchId=633ad23ea8643', 'https://www.immoweb.be/en/classified/villa/for-sale/soignies/7060/10121699?searchId=633ad23ea8643', 'https://www.immoweb.be/en/classified/apartment/for-sale/woluwe-saint-lambert/1200/10134714?searchId=633ad247d8be9', 'https://www.immoweb.be/en/classified/apartment/for-sale/sint-katelijne-waver/2860/10134345?searchId=633ad247d8be9', 'https://www.immoweb.be/en/classified/apartment/for-sale/woluwe-saint-lambert/1200/10133958?searchId=633ad247d8be9', 'https://www.immoweb.be/en/classified/apartment/for-sale/merelbeke/9820/10134100?searchId=633ad247d8be9', 'https://www.immoweb.be/en/classified/apartment/for-sale/ixelles/1050/10123723?searchId=633ad247d8be9', 'https://www.immoweb.be/en/classified/apartment/for-sale/libramont-chevigny-presseux/6800/10145548?searchId=633ad247d8be9', 'https://www.immoweb.be/en/classified/apartment/for-sale/libin/6890/10145547?searchId=633ad247d8be9', 'https://www.immoweb.be/en/classified/flat-studio/for-sale/uccle/1180/10143355?searchId=633ad247d8be9', 'https://www.immoweb.be/en/classified/apartment/for-sale/schaerbeek/1030/10142974?searchId=633ad247d8be9', 'https://www.immoweb.be/en/classified/apartment/for-sale/bruxelles/1000/10142946?searchId=633ad247d8be9', 'https://www.immoweb.be/en/classified/apartment/for-sale/schaerbeek/1030/10142945?searchId=633ad247d8be9', 'https://www.immoweb.be/en/classified/duplex/for-sale/uccle/1180/10144016?searchId=633ad247d8be9', 'https://www.immoweb.be/en/classified/duplex/for-sale/uccle/1180/10143662?searchId=633ad247d8be9', 'https://www.immoweb.be/en/classified/apartment/for-sale/sint-eloois-vijve/8793/10144443?searchId=633ad247d8be9', 'https://www.immoweb.be/en/classified/penthouse/for-sale/evere/1140/10132395?searchId=633ad247d8be9', 'https://www.immoweb.be/en/classified/apartment/for-sale/knokke-heist/8300/10142996?searchId=633ad247d8be9', 'https://www.immoweb.be/en/classified/apartment/for-sale/arlon/6700/10146392?searchId=633ad247d8be9', 'https://www.immoweb.be/en/classified/penthouse/for-sale/ixelles/1050/10142987?searchId=633ad247d8be9', 'https://www.immoweb.be/en/classified/duplex/for-sale/molenbeek-saint-jean/1080/9933883?searchId=633ad247d8be9', 'https://www.immoweb.be/en/classified/apartment/for-sale/anderlecht/1070/10142647?searchId=633ad247d8be9', 'https://www.immoweb.be/en/classified/apartment/for-sale/anderlecht/1070/10142404?searchId=633ad247d8be9', 'https://www.immoweb.be/en/classified/apartment/for-sale/bruxelles/1000/10142522?searchId=633ad247d8be9', 'https://www.immoweb.be/en/classified/duplex/for-sale/ixelles/1050/10140627?searchId=633ad247d8be9', 'https://www.immoweb.be/en/classified/apartment/for-sale/gavere/9890/10084941?searchId=633ad247d8be9', 'https://www.immoweb.be/en/classified/apartment/for-sale/gavere/9890/10084890?searchId=633ad247d8be9', 'https://www.immoweb.be/en/classified/new-real-estate-project-apartments/for-sale/evergem-sleidinge/9940/10132517?searchId=633ad247d8be9', 'https://www.immoweb.be/en/classified/apartment/for-sale/gavere/9890/10084884?searchId=633ad247d8be9', 'https://www.immoweb.be/en/classified/apartment/for-sale/gavere/9890/10084865?searchId=633ad247d8be9', 'https://www.immoweb.be/en/classified/apartment/for-sale/gavere/9890/10084862?searchId=633ad247d8be9', 'https://www.immoweb.be/en/classified/apartment/for-sale/gavere/9890/10084860?searchId=633ad247d8be9']\n"
     ]
    }
   ],
   "source": [
    "print(len(clean_urls_list))\n",
    "print(clean_urls_list)"
   ]
  },
  {
   "cell_type": "code",
   "execution_count": 10,
   "id": "18e45416-495a-42b3-b8c7-72396e7e24c2",
   "metadata": {},
   "outputs": [],
   "source": [
    "#save_to_csv(clean_urls_list,'urls_list.csv')"
   ]
  },
  {
   "cell_type": "markdown",
   "id": "e4d469c2-99d8-42c1-a7ff-cd9e3e467b6e",
   "metadata": {},
   "source": [
    "# Get Elements_properties_raw"
   ]
  },
  {
   "cell_type": "code",
   "execution_count": 11,
   "id": "46815ee6-9e35-4ae2-acb2-f3e3d7c6953b",
   "metadata": {},
   "outputs": [],
   "source": [
    "def get_property(url):\n",
    "    req_element = session.get(url)\n",
    "    soup = BeautifulSoup(req_element.text, 'html.parser')\n",
    "    element_info = soup.select('div.classified script')\n",
    "    text = element_info[0].text\n",
    "    return json.loads(\"\".join((\"\".join(text.split('=')[1:]).split(\";\")[:-1])))"
   ]
  },
  {
   "cell_type": "code",
   "execution_count": 12,
   "id": "f6868316-e9a7-4e2b-8819-2840b9162d5c",
   "metadata": {
    "jupyter": {
     "source_hidden": true
    },
    "tags": []
   },
   "outputs": [
    {
     "name": "stdout",
     "output_type": "stream",
     "text": [
      "20.697983741760254\n"
     ]
    }
   ],
   "source": [
    "start = time.time()\n",
    "for index,url in enumerate(clean_urls_list):\n",
    "    #start = time.time()\n",
    "    raw_element_dictionary[url] = get_property(url)\n",
    "    #end = time.time()\n",
    "    #print('scraped',index,' time ',end-start,url)\n",
    "end = time.time()\n",
    "print(end-start)"
   ]
  },
  {
   "cell_type": "markdown",
   "id": "fa95abc2-aa71-4809-bf14-967df2bffd8b",
   "metadata": {},
   "source": [
    "runs under 12 sec"
   ]
  },
  {
   "cell_type": "code",
   "execution_count": 13,
   "id": "30ddc960-f671-41fb-92f4-b9dafb0be062",
   "metadata": {},
   "outputs": [
    {
     "name": "stdout",
     "output_type": "stream",
     "text": [
      "6.171714782714844\n"
     ]
    }
   ],
   "source": [
    "start = time.time()  #Test\n",
    "with concurrent.futures.ThreadPoolExecutor() as executor:\n",
    "    executor.map(get_property, clean_urls_list)\n",
    "end = time.time()  #Test\n",
    "print(end-start)  #Test"
   ]
  },
  {
   "cell_type": "markdown",
   "id": "4138fe59-5957-4918-9807-43decb982fcb",
   "metadata": {},
   "source": [
    "runs under 4 sec"
   ]
  },
  {
   "cell_type": "markdown",
   "id": "34addc3b-279f-4b3e-894d-d1e8b98ea8f8",
   "metadata": {},
   "source": [
    "# Save into json"
   ]
  },
  {
   "cell_type": "code",
   "execution_count": 14,
   "id": "19daabb3-2acc-4f80-bfa0-3ce59e3d7947",
   "metadata": {},
   "outputs": [],
   "source": [
    "with open(\"raw_element_dictionary.json\",\"w\") as raw_element_dictionary_file:\n",
    "    raw_element_dictionary_file.write(json.dumps(raw_element_dictionary))"
   ]
  },
  {
   "cell_type": "markdown",
   "id": "0e6bb8d3-3cc9-4e2b-996d-f98a460399dd",
   "metadata": {},
   "source": [
    "# Get Elements_properties_list"
   ]
  },
  {
   "cell_type": "code",
   "execution_count": 15,
   "id": "93ed825a-3edb-400c-9bb8-57682684c0ce",
   "metadata": {},
   "outputs": [],
   "source": [
    "def get_elements_properties(element):\n",
    "    element_data = {\n",
    "    'id': element['id'],\n",
    "    'url': list(raw_element_dictionary.keys())[index],\n",
    "    'Locality': element['property']['location']['postalCode'] if element['property']['location'] is not None else None,\n",
    "    'Type of property': element['property']['type'] if element['property']['type'] is not None else None,\n",
    "    'Subtype of property': element['property']['subtype'] if element['property']['subtype'] is not None else None,\n",
    "    'Price': element['price']['mainValue'] if element['price'] is not None else None,\n",
    "    'Type of sale': element['price']['type'] if element['price'] is not None else None,\n",
    "    'Number of rooms': element['property']['roomCount'] if element['property']  is not None else None,\n",
    "    'Area': element['property']['netHabitableSurface'] if element['property'] is not None else None,\n",
    "    'Fully equipped kitchen': element['property']['kitchen']['type'] if element['property']['kitchen'] is not None else None,\n",
    "    'Furnished': element['transaction']['sale']['isFurnished'] if element['transaction']['sale'] is not None else None,\n",
    "    'Open fire': element['property']['fireplaceExists'] if element['property'] is not None else None,\n",
    "    'Terrace': element['property']['hasTerrace'] if element['property'] is not None else None,\n",
    "    'Terrace area': element['property']['terraceSurface'] if element['property'] is not None else None,\n",
    "    'Garden': element['property']['hasGarden'] if element['property'] is not None else None,\n",
    "    'Garden area': element['property']['gardenSurface'] if element['property'] is not None else None,\n",
    "    'Surface of the land': element['property']['land']['surface'] if element['property']['land'] is not None else None,\n",
    "    'Surface area of the plot of land': element['property']['land']['surface'] if element['property']['land'] is not None else None,\n",
    "    'Number of facades ': element['property']['building']['facadeCount'] if element['property']['building'] is not None else 1,\n",
    "    'Swimming pool': element['property']['hasSwimmingPool'] if element['property'] is not None else None,\n",
    "    'State of the building': element['property']['building']['condition'] if element['property']['building'] is not None else None\n",
    "    }\n",
    "    return element_data"
   ]
  },
  {
   "cell_type": "code",
   "execution_count": 16,
   "id": "0e9b7163-86ce-45ae-b560-952932255cb4",
   "metadata": {},
   "outputs": [
    {
     "name": "stdout",
     "output_type": "stream",
     "text": [
      "1.811981201171875e-05\n"
     ]
    }
   ],
   "source": [
    "start = time.time()  #Test\n",
    "\n",
    "end = time.time()  #Test\n",
    "print(end-start)  #Test"
   ]
  },
  {
   "cell_type": "code",
   "execution_count": 17,
   "id": "b3e7239f-e394-4079-a491-516703d2b3d2",
   "metadata": {},
   "outputs": [
    {
     "name": "stdout",
     "output_type": "stream",
     "text": [
      "0.007098197937011719\n"
     ]
    }
   ],
   "source": [
    "start = time.time()  #Test\n",
    "for index,element in enumerate(raw_element_dictionary.values()):\n",
    "    df_element_list.append(get_elements_properties(element))\n",
    "    #print(index,'Done')  #,list(main_dictionary.keys())[index])\n",
    "end = time.time()  #Test\n",
    "print(end-start)  #Test"
   ]
  },
  {
   "cell_type": "code",
   "execution_count": 18,
   "id": "eb9a8f10-6954-4bac-9133-f024902a3c85",
   "metadata": {
    "tags": []
   },
   "outputs": [
    {
     "name": "stdout",
     "output_type": "stream",
     "text": [
      "[{'id': 10134094, 'url': 'https://www.immoweb.be/en/classified/house/for-sale/evere/1140/10134094?searchId=633ad23ea8643', 'Locality': '1140', 'Type of property': 'HOUSE', 'Subtype of property': 'HOUSE', 'Price': 499000, 'Type of sale': 'residential_sale', 'Number of rooms': None, 'Area': 155, 'Fully equipped kitchen': 'USA_HYPER_EQUIPPED', 'Furnished': False, 'Open fire': False, 'Terrace': True, 'Terrace area': 27, 'Garden': None, 'Garden area': None, 'Surface of the land': 177, 'Surface area of the plot of land': 177, 'Number of facades ': 2, 'Swimming pool': False, 'State of the building': 'GOOD'}, {'id': 8556707, 'url': 'https://www.immoweb.be/en/classified/8556707', 'Locality': '1140', 'Type of property': 'APARTMENT_GROUP', 'Subtype of property': 'APARTMENT_GROUP', 'Price': None, 'Type of sale': 'group_sale', 'Number of rooms': None, 'Area': None, 'Fully equipped kitchen': None, 'Furnished': None, 'Open fire': False, 'Terrace': None, 'Terrace area': None, 'Garden': None, 'Garden area': None, 'Surface of the land': None, 'Surface area of the plot of land': None, 'Number of facades ': 1, 'Swimming pool': None, 'State of the building': None}, {'id': 10143558, 'url': 'https://www.immoweb.be/en/classified/house/for-sale/roosdaal/1760/10143558?searchId=633ad23ea8643', 'Locality': '1760', 'Type of property': 'HOUSE', 'Subtype of property': 'HOUSE', 'Price': 980000, 'Type of sale': 'residential_sale', 'Number of rooms': None, 'Area': 265, 'Fully equipped kitchen': 'HYPER_EQUIPPED', 'Furnished': False, 'Open fire': False, 'Terrace': None, 'Terrace area': None, 'Garden': None, 'Garden area': None, 'Surface of the land': 3300, 'Surface area of the plot of land': 3300, 'Number of facades ': 4, 'Swimming pool': False, 'State of the building': 'JUST_RENOVATED'}, {'id': 10142968, 'url': 'https://www.immoweb.be/en/classified/apartment-block/for-sale/forest/1190/10142968?searchId=633ad23ea8643', 'Locality': '1190', 'Type of property': 'HOUSE', 'Subtype of property': 'APARTMENT_BLOCK', 'Price': 1300000, 'Type of sale': 'residential_sale', 'Number of rooms': None, 'Area': 600, 'Fully equipped kitchen': 'NOT_INSTALLED', 'Furnished': False, 'Open fire': False, 'Terrace': True, 'Terrace area': 5, 'Garden': None, 'Garden area': None, 'Surface of the land': 100, 'Surface area of the plot of land': 100, 'Number of facades ': 2, 'Swimming pool': False, 'State of the building': 'GOOD'}, {'id': 10126151, 'url': 'https://www.immoweb.be/en/classified/house/for-sale/zottegem/9620/10126151?searchId=633ad23ea8643', 'Locality': '9620', 'Type of property': 'HOUSE', 'Subtype of property': 'HOUSE', 'Price': 225000, 'Type of sale': 'residential_sale', 'Number of rooms': None, 'Area': 194, 'Fully equipped kitchen': 'SEMI_EQUIPPED', 'Furnished': False, 'Open fire': False, 'Terrace': True, 'Terrace area': 14, 'Garden': None, 'Garden area': None, 'Surface of the land': 100, 'Surface area of the plot of land': 100, 'Number of facades ': 2, 'Swimming pool': False, 'State of the building': 'TO_BE_DONE_UP'}, {'id': 10127053, 'url': 'https://www.immoweb.be/en/classified/new-real-estate-project-houses/for-sale/herenthout/2270/10127053?searchId=633ad23ea8643', 'Locality': '2270', 'Type of property': 'HOUSE_GROUP', 'Subtype of property': 'HOUSE_GROUP', 'Price': None, 'Type of sale': 'group_sale', 'Number of rooms': None, 'Area': None, 'Fully equipped kitchen': None, 'Furnished': False, 'Open fire': False, 'Terrace': None, 'Terrace area': None, 'Garden': None, 'Garden area': None, 'Surface of the land': None, 'Surface area of the plot of land': None, 'Number of facades ': 1, 'Swimming pool': None, 'State of the building': None}, {'id': 10127823, 'url': 'https://www.immoweb.be/en/classified/villa/for-sale/rixensart/1330/10127823?searchId=633ad23ea8643', 'Locality': '1330', 'Type of property': 'HOUSE', 'Subtype of property': 'VILLA', 'Price': 499000, 'Type of sale': 'residential_sale', 'Number of rooms': None, 'Area': 187, 'Fully equipped kitchen': 'INSTALLED', 'Furnished': False, 'Open fire': False, 'Terrace': True, 'Terrace area': 2240, 'Garden': True, 'Garden area': 360, 'Surface of the land': 412, 'Surface area of the plot of land': 412, 'Number of facades ': 4, 'Swimming pool': False, 'State of the building': 'GOOD'}, {'id': 10127813, 'url': 'https://www.immoweb.be/en/classified/house/for-sale/grez-doiceau/1390/10127813?searchId=633ad23ea8643', 'Locality': '1390', 'Type of property': 'HOUSE', 'Subtype of property': 'HOUSE', 'Price': 750000, 'Type of sale': 'residential_sale', 'Number of rooms': None, 'Area': 220, 'Fully equipped kitchen': 'INSTALLED', 'Furnished': False, 'Open fire': False, 'Terrace': True, 'Terrace area': 108, 'Garden': True, 'Garden area': 720, 'Surface of the land': 815, 'Surface area of the plot of land': 815, 'Number of facades ': 3, 'Swimming pool': False, 'State of the building': 'JUST_RENOVATED'}, {'id': 10088204, 'url': 'https://www.immoweb.be/en/classified/house/for-sale/ixelles/1050/10088204?searchId=633ad23ea8643', 'Locality': '1050', 'Type of property': 'HOUSE', 'Subtype of property': 'HOUSE', 'Price': 1050000, 'Type of sale': 'residential_sale', 'Number of rooms': 5, 'Area': 235, 'Fully equipped kitchen': 'INSTALLED', 'Furnished': False, 'Open fire': False, 'Terrace': True, 'Terrace area': None, 'Garden': True, 'Garden area': 150, 'Surface of the land': 271, 'Surface area of the plot of land': 271, 'Number of facades ': 2, 'Swimming pool': False, 'State of the building': 'TO_RENOVATE'}, {'id': 10126511, 'url': 'https://www.immoweb.be/en/classified/house/for-sale/tervuren/3080/10126511?searchId=633ad23ea8643', 'Locality': '3080', 'Type of property': 'HOUSE', 'Subtype of property': 'HOUSE', 'Price': 1375000, 'Type of sale': 'residential_sale', 'Number of rooms': None, 'Area': 350, 'Fully equipped kitchen': 'HYPER_EQUIPPED', 'Furnished': False, 'Open fire': True, 'Terrace': True, 'Terrace area': 100, 'Garden': True, 'Garden area': 1300, 'Surface of the land': 1557, 'Surface area of the plot of land': 1557, 'Number of facades ': 4, 'Swimming pool': None, 'State of the building': 'GOOD'}, {'id': 10136523, 'url': 'https://www.immoweb.be/en/classified/other-property/for-sale/rendeux/6987/10136523?searchId=633ad23ea8643', 'Locality': '6987', 'Type of property': 'HOUSE', 'Subtype of property': 'OTHER_PROPERTY', 'Price': 85000, 'Type of sale': 'residential_sale', 'Number of rooms': None, 'Area': 100, 'Fully equipped kitchen': 'NOT_INSTALLED', 'Furnished': False, 'Open fire': False, 'Terrace': True, 'Terrace area': None, 'Garden': None, 'Garden area': None, 'Surface of the land': 80, 'Surface area of the plot of land': 80, 'Number of facades ': 2, 'Swimming pool': False, 'State of the building': 'TO_RENOVATE'}, {'id': 10140836, 'url': 'https://www.immoweb.be/en/classified/house/for-sale/ronse/9600/10140836?searchId=633ad23ea8643', 'Locality': '9600', 'Type of property': 'HOUSE', 'Subtype of property': 'HOUSE', 'Price': 189000, 'Type of sale': 'residential_sale', 'Number of rooms': None, 'Area': 144, 'Fully equipped kitchen': 'HYPER_EQUIPPED', 'Furnished': False, 'Open fire': False, 'Terrace': True, 'Terrace area': 10, 'Garden': True, 'Garden area': 60, 'Surface of the land': 170, 'Surface area of the plot of land': 170, 'Number of facades ': 2, 'Swimming pool': False, 'State of the building': 'GOOD'}, {'id': 10142388, 'url': 'https://www.immoweb.be/en/classified/house/for-sale/dworp/1653/10142388?searchId=633ad23ea8643', 'Locality': '1653', 'Type of property': 'HOUSE', 'Subtype of property': 'HOUSE', 'Price': 448000, 'Type of sale': 'residential_sale', 'Number of rooms': None, 'Area': 150, 'Fully equipped kitchen': 'INSTALLED', 'Furnished': False, 'Open fire': False, 'Terrace': True, 'Terrace area': None, 'Garden': None, 'Garden area': None, 'Surface of the land': 429, 'Surface area of the plot of land': 429, 'Number of facades ': 3, 'Swimming pool': None, 'State of the building': 'GOOD'}, {'id': 10142685, 'url': 'https://www.immoweb.be/en/classified/house/for-sale/jette/1090/10142685?searchId=633ad23ea8643', 'Locality': '1090', 'Type of property': 'HOUSE', 'Subtype of property': 'HOUSE', 'Price': 449990, 'Type of sale': 'residential_sale', 'Number of rooms': None, 'Area': 255, 'Fully equipped kitchen': 'INSTALLED', 'Furnished': False, 'Open fire': False, 'Terrace': None, 'Terrace area': None, 'Garden': True, 'Garden area': 67, 'Surface of the land': 149, 'Surface area of the plot of land': 149, 'Number of facades ': 2, 'Swimming pool': False, 'State of the building': 'TO_BE_DONE_UP'}, {'id': 10145131, 'url': 'https://www.immoweb.be/en/classified/house/for-sale/bornival/1404/10145131?searchId=633ad23ea8643', 'Locality': '1404', 'Type of property': 'HOUSE', 'Subtype of property': 'HOUSE', 'Price': 349000, 'Type of sale': 'residential_sale', 'Number of rooms': None, 'Area': 117, 'Fully equipped kitchen': 'USA_HYPER_EQUIPPED', 'Furnished': False, 'Open fire': False, 'Terrace': True, 'Terrace area': 30, 'Garden': True, 'Garden area': 250, 'Surface of the land': 407, 'Surface area of the plot of land': 407, 'Number of facades ': 3, 'Swimming pool': False, 'State of the building': 'JUST_RENOVATED'}, {'id': 10145138, 'url': 'https://www.immoweb.be/en/classified/house/for-sale/auderghem/1160/10145138?searchId=633ad23ea8643', 'Locality': '1160', 'Type of property': 'HOUSE', 'Subtype of property': 'HOUSE', 'Price': 495000, 'Type of sale': 'residential_sale', 'Number of rooms': None, 'Area': 122, 'Fully equipped kitchen': 'INSTALLED', 'Furnished': False, 'Open fire': False, 'Terrace': True, 'Terrace area': 40, 'Garden': True, 'Garden area': 100, 'Surface of the land': 235, 'Surface area of the plot of land': 235, 'Number of facades ': 3, 'Swimming pool': False, 'State of the building': 'TO_BE_DONE_UP'}, {'id': 10145935, 'url': 'https://www.immoweb.be/en/classified/villa/for-sale/lasne/1380/10145935?searchId=633ad23ea8643', 'Locality': '1380', 'Type of property': 'HOUSE', 'Subtype of property': 'VILLA', 'Price': 935000, 'Type of sale': 'residential_sale', 'Number of rooms': None, 'Area': 237, 'Fully equipped kitchen': 'USA_HYPER_EQUIPPED', 'Furnished': False, 'Open fire': False, 'Terrace': True, 'Terrace area': 60, 'Garden': True, 'Garden area': 1546, 'Surface of the land': 1641, 'Surface area of the plot of land': 1641, 'Number of facades ': 4, 'Swimming pool': False, 'State of the building': 'AS_NEW'}, {'id': 10123455, 'url': 'https://www.immoweb.be/en/classified/new-real-estate-project-houses/for-sale/gent-sint-amandsberg/9040/10123455?searchId=633ad23ea8643', 'Locality': '9040', 'Type of property': 'HOUSE_GROUP', 'Subtype of property': 'HOUSE_GROUP', 'Price': None, 'Type of sale': 'group_sale', 'Number of rooms': None, 'Area': None, 'Fully equipped kitchen': None, 'Furnished': None, 'Open fire': False, 'Terrace': None, 'Terrace area': None, 'Garden': None, 'Garden area': None, 'Surface of the land': None, 'Surface area of the plot of land': None, 'Number of facades ': 1, 'Swimming pool': None, 'State of the building': None}, {'id': 10123715, 'url': 'https://www.immoweb.be/en/classified/apartment-block/for-sale/bruxelles/1000/10123715?searchId=633ad23ea8643', 'Locality': '1000', 'Type of property': 'HOUSE', 'Subtype of property': 'APARTMENT_BLOCK', 'Price': 2498000, 'Type of sale': 'residential_sale', 'Number of rooms': None, 'Area': 570, 'Fully equipped kitchen': 'USA_SEMI_EQUIPPED', 'Furnished': True, 'Open fire': False, 'Terrace': True, 'Terrace area': 32, 'Garden': True, 'Garden area': 145, 'Surface of the land': 314, 'Surface area of the plot of land': 314, 'Number of facades ': 2, 'Swimming pool': False, 'State of the building': 'AS_NEW'}, {'id': 10084879, 'url': 'https://www.immoweb.be/en/classified/house/for-sale/gavere/9890/10084879?searchId=633ad23ea8643', 'Locality': '9890', 'Type of property': 'HOUSE', 'Subtype of property': 'HOUSE', 'Price': 325000, 'Type of sale': 'residential_sale', 'Number of rooms': None, 'Area': 144, 'Fully equipped kitchen': 'HYPER_EQUIPPED', 'Furnished': False, 'Open fire': False, 'Terrace': True, 'Terrace area': 12, 'Garden': True, 'Garden area': 37, 'Surface of the land': 193, 'Surface area of the plot of land': 193, 'Number of facades ': 2, 'Swimming pool': False, 'State of the building': 'AS_NEW'}, {'id': 10084878, 'url': 'https://www.immoweb.be/en/classified/house/for-sale/gavere/9890/10084878?searchId=633ad23ea8643', 'Locality': '9890', 'Type of property': 'HOUSE', 'Subtype of property': 'HOUSE', 'Price': 325000, 'Type of sale': 'residential_sale', 'Number of rooms': None, 'Area': 144, 'Fully equipped kitchen': 'HYPER_EQUIPPED', 'Furnished': False, 'Open fire': False, 'Terrace': True, 'Terrace area': 12, 'Garden': True, 'Garden area': 39, 'Surface of the land': 195, 'Surface area of the plot of land': 195, 'Number of facades ': 2, 'Swimming pool': False, 'State of the building': 'AS_NEW'}, {'id': 10084880, 'url': 'https://www.immoweb.be/en/classified/house/for-sale/gavere/9890/10084880?searchId=633ad23ea8643', 'Locality': '9890', 'Type of property': 'HOUSE', 'Subtype of property': 'HOUSE', 'Price': 339000, 'Type of sale': 'residential_sale', 'Number of rooms': None, 'Area': 144, 'Fully equipped kitchen': 'HYPER_EQUIPPED', 'Furnished': False, 'Open fire': False, 'Terrace': True, 'Terrace area': 12, 'Garden': True, 'Garden area': 35, 'Surface of the land': 191, 'Surface area of the plot of land': 191, 'Number of facades ': 3, 'Swimming pool': False, 'State of the building': 'AS_NEW'}, {'id': 10084877, 'url': 'https://www.immoweb.be/en/classified/house/for-sale/gavere/9890/10084877?searchId=633ad23ea8643', 'Locality': '9890', 'Type of property': 'HOUSE', 'Subtype of property': 'HOUSE', 'Price': 345000, 'Type of sale': 'residential_sale', 'Number of rooms': None, 'Area': 152, 'Fully equipped kitchen': 'HYPER_EQUIPPED', 'Furnished': False, 'Open fire': False, 'Terrace': True, 'Terrace area': 12, 'Garden': True, 'Garden area': 44, 'Surface of the land': 208, 'Surface area of the plot of land': 208, 'Number of facades ': 3, 'Swimming pool': False, 'State of the building': 'AS_NEW'}, {'id': 9651402, 'url': 'https://www.immoweb.be/en/classified/house/for-sale/affligem/1790/9651402?searchId=633ad23ea8643', 'Locality': '1790', 'Type of property': 'HOUSE', 'Subtype of property': 'HOUSE', 'Price': 403950, 'Type of sale': 'residential_sale', 'Number of rooms': None, 'Area': 215, 'Fully equipped kitchen': 'USA_HYPER_EQUIPPED', 'Furnished': False, 'Open fire': False, 'Terrace': True, 'Terrace area': None, 'Garden': None, 'Garden area': None, 'Surface of the land': 321, 'Surface area of the plot of land': 321, 'Number of facades ': 3, 'Swimming pool': False, 'State of the building': 'AS_NEW'}, {'id': 10134578, 'url': 'https://www.immoweb.be/en/classified/house/for-sale/alsemberg/1652/10134578?searchId=633ad23ea8643', 'Locality': '1652', 'Type of property': 'HOUSE', 'Subtype of property': 'HOUSE', 'Price': 545000, 'Type of sale': 'residential_sale', 'Number of rooms': None, 'Area': 180, 'Fully equipped kitchen': 'INSTALLED', 'Furnished': False, 'Open fire': True, 'Terrace': True, 'Terrace area': 30, 'Garden': True, 'Garden area': 530, 'Surface of the land': 700, 'Surface area of the plot of land': 700, 'Number of facades ': 4, 'Swimming pool': None, 'State of the building': 'GOOD'}, {'id': 10144445, 'url': 'https://www.immoweb.be/en/classified/house/for-sale/sint-baafs-vijve/8710/10144445?searchId=633ad23ea8643', 'Locality': '8710', 'Type of property': 'HOUSE', 'Subtype of property': 'HOUSE', 'Price': 225000, 'Type of sale': 'residential_sale', 'Number of rooms': None, 'Area': 150, 'Fully equipped kitchen': 'SEMI_EQUIPPED', 'Furnished': False, 'Open fire': False, 'Terrace': None, 'Terrace area': None, 'Garden': None, 'Garden area': None, 'Surface of the land': 321, 'Surface area of the plot of land': 321, 'Number of facades ': 3, 'Swimming pool': None, 'State of the building': 'TO_BE_DONE_UP'}, {'id': 10143183, 'url': 'https://www.immoweb.be/en/classified/villa/for-sale/mol/2400/10143183?searchId=633ad23ea8643', 'Locality': '2400', 'Type of property': 'HOUSE', 'Subtype of property': 'VILLA', 'Price': 449000, 'Type of sale': 'residential_sale', 'Number of rooms': None, 'Area': 200, 'Fully equipped kitchen': 'HYPER_EQUIPPED', 'Furnished': None, 'Open fire': False, 'Terrace': True, 'Terrace area': None, 'Garden': True, 'Garden area': 700, 'Surface of the land': 836, 'Surface area of the plot of land': 836, 'Number of facades ': 4, 'Swimming pool': False, 'State of the building': 'JUST_RENOVATED'}, {'id': 10143853, 'url': 'https://www.immoweb.be/en/classified/house/for-sale/kapellen/2950/10143853?searchId=633ad23ea8643', 'Locality': '2950', 'Type of property': 'HOUSE', 'Subtype of property': 'HOUSE', 'Price': 589000, 'Type of sale': 'residential_sale', 'Number of rooms': None, 'Area': 234, 'Fully equipped kitchen': 'HYPER_EQUIPPED', 'Furnished': False, 'Open fire': False, 'Terrace': True, 'Terrace area': 36, 'Garden': True, 'Garden area': 400, 'Surface of the land': 594, 'Surface area of the plot of land': 594, 'Number of facades ': 3, 'Swimming pool': False, 'State of the building': 'AS_NEW'}, {'id': 10146649, 'url': 'https://www.immoweb.be/en/classified/house/for-sale/grez-doiceau/1390/10146649?searchId=633ad23ea8643', 'Locality': '1390', 'Type of property': 'HOUSE', 'Subtype of property': 'HOUSE', 'Price': 795000, 'Type of sale': 'residential_sale', 'Number of rooms': None, 'Area': 271, 'Fully equipped kitchen': 'INSTALLED', 'Furnished': False, 'Open fire': False, 'Terrace': True, 'Terrace area': None, 'Garden': None, 'Garden area': None, 'Surface of the land': 47, 'Surface area of the plot of land': 47, 'Number of facades ': 4, 'Swimming pool': False, 'State of the building': 'GOOD'}, {'id': 10121408, 'url': 'https://www.immoweb.be/en/classified/house/for-sale/saint-hubert/6870/10121408?searchId=633ad23ea8643', 'Locality': '6870', 'Type of property': 'HOUSE', 'Subtype of property': 'HOUSE', 'Price': 175000, 'Type of sale': 'residential_sale', 'Number of rooms': None, 'Area': 124, 'Fully equipped kitchen': 'NOT_INSTALLED', 'Furnished': False, 'Open fire': False, 'Terrace': True, 'Terrace area': 10, 'Garden': None, 'Garden area': None, 'Surface of the land': 721, 'Surface area of the plot of land': 721, 'Number of facades ': 2, 'Swimming pool': False, 'State of the building': 'AS_NEW'}, {'id': 10121699, 'url': 'https://www.immoweb.be/en/classified/villa/for-sale/soignies/7060/10121699?searchId=633ad23ea8643', 'Locality': '7060', 'Type of property': 'HOUSE', 'Subtype of property': 'VILLA', 'Price': 325000, 'Type of sale': 'residential_sale', 'Number of rooms': None, 'Area': 220, 'Fully equipped kitchen': 'INSTALLED', 'Furnished': False, 'Open fire': False, 'Terrace': True, 'Terrace area': None, 'Garden': True, 'Garden area': None, 'Surface of the land': 1578, 'Surface area of the plot of land': 1578, 'Number of facades ': 4, 'Swimming pool': None, 'State of the building': 'TO_BE_DONE_UP'}, {'id': 10134714, 'url': 'https://www.immoweb.be/en/classified/apartment/for-sale/woluwe-saint-lambert/1200/10134714?searchId=633ad247d8be9', 'Locality': '1200', 'Type of property': 'APARTMENT', 'Subtype of property': 'APARTMENT', 'Price': 255000, 'Type of sale': 'residential_sale', 'Number of rooms': None, 'Area': 72, 'Fully equipped kitchen': 'INSTALLED', 'Furnished': False, 'Open fire': False, 'Terrace': True, 'Terrace area': 6, 'Garden': None, 'Garden area': None, 'Surface of the land': None, 'Surface area of the plot of land': None, 'Number of facades ': None, 'Swimming pool': False, 'State of the building': 'AS_NEW'}, {'id': 10134345, 'url': 'https://www.immoweb.be/en/classified/apartment/for-sale/sint-katelijne-waver/2860/10134345?searchId=633ad247d8be9', 'Locality': '2860', 'Type of property': 'APARTMENT', 'Subtype of property': 'APARTMENT', 'Price': 273000, 'Type of sale': 'residential_sale', 'Number of rooms': None, 'Area': 109, 'Fully equipped kitchen': 'SEMI_EQUIPPED', 'Furnished': False, 'Open fire': False, 'Terrace': True, 'Terrace area': 10, 'Garden': None, 'Garden area': None, 'Surface of the land': None, 'Surface area of the plot of land': None, 'Number of facades ': 2, 'Swimming pool': None, 'State of the building': 'GOOD'}, {'id': 10133958, 'url': 'https://www.immoweb.be/en/classified/apartment/for-sale/woluwe-saint-lambert/1200/10133958?searchId=633ad247d8be9', 'Locality': '1200', 'Type of property': 'APARTMENT', 'Subtype of property': 'APARTMENT', 'Price': 320000, 'Type of sale': 'residential_sale', 'Number of rooms': None, 'Area': 77, 'Fully equipped kitchen': 'HYPER_EQUIPPED', 'Furnished': False, 'Open fire': False, 'Terrace': True, 'Terrace area': 2, 'Garden': None, 'Garden area': None, 'Surface of the land': None, 'Surface area of the plot of land': None, 'Number of facades ': 2, 'Swimming pool': None, 'State of the building': 'JUST_RENOVATED'}, {'id': 10134100, 'url': 'https://www.immoweb.be/en/classified/apartment/for-sale/merelbeke/9820/10134100?searchId=633ad247d8be9', 'Locality': '9820', 'Type of property': 'APARTMENT', 'Subtype of property': 'APARTMENT', 'Price': 465000, 'Type of sale': 'residential_sale', 'Number of rooms': None, 'Area': 151, 'Fully equipped kitchen': 'INSTALLED', 'Furnished': False, 'Open fire': False, 'Terrace': None, 'Terrace area': None, 'Garden': None, 'Garden area': None, 'Surface of the land': None, 'Surface area of the plot of land': None, 'Number of facades ': 2, 'Swimming pool': None, 'State of the building': 'GOOD'}, {'id': 10123723, 'url': 'https://www.immoweb.be/en/classified/apartment/for-sale/ixelles/1050/10123723?searchId=633ad247d8be9', 'Locality': '1050', 'Type of property': 'APARTMENT', 'Subtype of property': 'APARTMENT', 'Price': 1839000, 'Type of sale': 'residential_sale', 'Number of rooms': 4, 'Area': 203, 'Fully equipped kitchen': 'HYPER_EQUIPPED', 'Furnished': False, 'Open fire': False, 'Terrace': True, 'Terrace area': 76, 'Garden': None, 'Garden area': None, 'Surface of the land': None, 'Surface area of the plot of land': None, 'Number of facades ': 2, 'Swimming pool': False, 'State of the building': 'AS_NEW'}, {'id': 10145548, 'url': 'https://www.immoweb.be/en/classified/apartment/for-sale/libramont-chevigny-presseux/6800/10145548?searchId=633ad247d8be9', 'Locality': '6800', 'Type of property': 'APARTMENT', 'Subtype of property': 'APARTMENT', 'Price': 214900, 'Type of sale': 'residential_sale', 'Number of rooms': None, 'Area': 83, 'Fully equipped kitchen': None, 'Furnished': False, 'Open fire': False, 'Terrace': True, 'Terrace area': 8, 'Garden': None, 'Garden area': None, 'Surface of the land': None, 'Surface area of the plot of land': None, 'Number of facades ': None, 'Swimming pool': False, 'State of the building': 'AS_NEW'}, {'id': 10145547, 'url': 'https://www.immoweb.be/en/classified/apartment/for-sale/libin/6890/10145547?searchId=633ad247d8be9', 'Locality': '6890', 'Type of property': 'APARTMENT', 'Subtype of property': 'APARTMENT', 'Price': 229900, 'Type of sale': 'residential_sale', 'Number of rooms': None, 'Area': 82, 'Fully equipped kitchen': None, 'Furnished': False, 'Open fire': False, 'Terrace': True, 'Terrace area': 6, 'Garden': None, 'Garden area': None, 'Surface of the land': None, 'Surface area of the plot of land': None, 'Number of facades ': None, 'Swimming pool': False, 'State of the building': 'AS_NEW'}, {'id': 10143355, 'url': 'https://www.immoweb.be/en/classified/flat-studio/for-sale/uccle/1180/10143355?searchId=633ad247d8be9', 'Locality': '1180', 'Type of property': 'APARTMENT', 'Subtype of property': 'FLAT_STUDIO', 'Price': 180000, 'Type of sale': 'residential_sale', 'Number of rooms': None, 'Area': 46, 'Fully equipped kitchen': 'HYPER_EQUIPPED', 'Furnished': False, 'Open fire': False, 'Terrace': None, 'Terrace area': None, 'Garden': None, 'Garden area': None, 'Surface of the land': None, 'Surface area of the plot of land': None, 'Number of facades ': 3, 'Swimming pool': False, 'State of the building': 'GOOD'}, {'id': 10142974, 'url': 'https://www.immoweb.be/en/classified/apartment/for-sale/schaerbeek/1030/10142974?searchId=633ad247d8be9', 'Locality': '1030', 'Type of property': 'APARTMENT', 'Subtype of property': 'APARTMENT', 'Price': 192500, 'Type of sale': 'residential_sale', 'Number of rooms': None, 'Area': 50, 'Fully equipped kitchen': 'USA_INSTALLED', 'Furnished': None, 'Open fire': False, 'Terrace': True, 'Terrace area': None, 'Garden': None, 'Garden area': None, 'Surface of the land': None, 'Surface area of the plot of land': None, 'Number of facades ': 2, 'Swimming pool': False, 'State of the building': 'JUST_RENOVATED'}, {'id': 10142946, 'url': 'https://www.immoweb.be/en/classified/apartment/for-sale/bruxelles/1000/10142946?searchId=633ad247d8be9', 'Locality': '1000', 'Type of property': 'APARTMENT', 'Subtype of property': 'APARTMENT', 'Price': 280000, 'Type of sale': 'residential_sale', 'Number of rooms': None, 'Area': 84, 'Fully equipped kitchen': 'INSTALLED', 'Furnished': False, 'Open fire': False, 'Terrace': True, 'Terrace area': 15, 'Garden': None, 'Garden area': None, 'Surface of the land': None, 'Surface area of the plot of land': None, 'Number of facades ': 2, 'Swimming pool': False, 'State of the building': 'GOOD'}, {'id': 10142945, 'url': 'https://www.immoweb.be/en/classified/apartment/for-sale/schaerbeek/1030/10142945?searchId=633ad247d8be9', 'Locality': '1030', 'Type of property': 'APARTMENT', 'Subtype of property': 'APARTMENT', 'Price': 290000, 'Type of sale': 'residential_sale', 'Number of rooms': None, 'Area': 89, 'Fully equipped kitchen': 'NOT_INSTALLED', 'Furnished': False, 'Open fire': False, 'Terrace': None, 'Terrace area': None, 'Garden': None, 'Garden area': None, 'Surface of the land': None, 'Surface area of the plot of land': None, 'Number of facades ': 2, 'Swimming pool': False, 'State of the building': 'TO_RENOVATE'}, {'id': 10144016, 'url': 'https://www.immoweb.be/en/classified/duplex/for-sale/uccle/1180/10144016?searchId=633ad247d8be9', 'Locality': '1180', 'Type of property': 'APARTMENT', 'Subtype of property': 'DUPLEX', 'Price': 455000, 'Type of sale': 'residential_sale', 'Number of rooms': None, 'Area': 154, 'Fully equipped kitchen': 'INSTALLED', 'Furnished': False, 'Open fire': False, 'Terrace': True, 'Terrace area': 2, 'Garden': None, 'Garden area': None, 'Surface of the land': None, 'Surface area of the plot of land': None, 'Number of facades ': 2, 'Swimming pool': False, 'State of the building': 'TO_BE_DONE_UP'}, {'id': 10143662, 'url': 'https://www.immoweb.be/en/classified/duplex/for-sale/uccle/1180/10143662?searchId=633ad247d8be9', 'Locality': '1180', 'Type of property': 'APARTMENT', 'Subtype of property': 'DUPLEX', 'Price': 455000, 'Type of sale': 'residential_sale', 'Number of rooms': None, 'Area': 154, 'Fully equipped kitchen': 'INSTALLED', 'Furnished': False, 'Open fire': False, 'Terrace': True, 'Terrace area': 2, 'Garden': None, 'Garden area': None, 'Surface of the land': None, 'Surface area of the plot of land': None, 'Number of facades ': 2, 'Swimming pool': False, 'State of the building': 'TO_BE_DONE_UP'}, {'id': 10144443, 'url': 'https://www.immoweb.be/en/classified/apartment/for-sale/sint-eloois-vijve/8793/10144443?searchId=633ad247d8be9', 'Locality': '8793', 'Type of property': 'APARTMENT', 'Subtype of property': 'APARTMENT', 'Price': 495000, 'Type of sale': 'residential_sale', 'Number of rooms': None, 'Area': 160, 'Fully equipped kitchen': 'INSTALLED', 'Furnished': False, 'Open fire': False, 'Terrace': True, 'Terrace area': 50, 'Garden': None, 'Garden area': None, 'Surface of the land': None, 'Surface area of the plot of land': None, 'Number of facades ': 4, 'Swimming pool': None, 'State of the building': 'GOOD'}, {'id': 10132395, 'url': 'https://www.immoweb.be/en/classified/penthouse/for-sale/evere/1140/10132395?searchId=633ad247d8be9', 'Locality': '1140', 'Type of property': 'APARTMENT', 'Subtype of property': 'PENTHOUSE', 'Price': 520000, 'Type of sale': 'residential_sale', 'Number of rooms': None, 'Area': 119, 'Fully equipped kitchen': 'USA_HYPER_EQUIPPED', 'Furnished': False, 'Open fire': False, 'Terrace': True, 'Terrace area': 12, 'Garden': None, 'Garden area': None, 'Surface of the land': None, 'Surface area of the plot of land': None, 'Number of facades ': 2, 'Swimming pool': False, 'State of the building': 'AS_NEW'}, {'id': 10142996, 'url': 'https://www.immoweb.be/en/classified/apartment/for-sale/knokke-heist/8300/10142996?searchId=633ad247d8be9', 'Locality': '8300', 'Type of property': 'APARTMENT', 'Subtype of property': 'APARTMENT', 'Price': 1145000, 'Type of sale': 'residential_sale', 'Number of rooms': 3, 'Area': 88, 'Fully equipped kitchen': 'HYPER_EQUIPPED', 'Furnished': None, 'Open fire': False, 'Terrace': True, 'Terrace area': None, 'Garden': None, 'Garden area': None, 'Surface of the land': None, 'Surface area of the plot of land': None, 'Number of facades ': 3, 'Swimming pool': False, 'State of the building': 'GOOD'}, {'id': 10146392, 'url': 'https://www.immoweb.be/en/classified/apartment/for-sale/arlon/6700/10146392?searchId=633ad247d8be9', 'Locality': '6700', 'Type of property': 'APARTMENT', 'Subtype of property': 'APARTMENT', 'Price': 270000, 'Type of sale': 'residential_sale', 'Number of rooms': None, 'Area': 110, 'Fully equipped kitchen': 'SEMI_EQUIPPED', 'Furnished': False, 'Open fire': False, 'Terrace': True, 'Terrace area': None, 'Garden': True, 'Garden area': None, 'Surface of the land': None, 'Surface area of the plot of land': None, 'Number of facades ': 2, 'Swimming pool': None, 'State of the building': 'GOOD'}, {'id': 10142987, 'url': 'https://www.immoweb.be/en/classified/penthouse/for-sale/ixelles/1050/10142987?searchId=633ad247d8be9', 'Locality': '1050', 'Type of property': 'APARTMENT', 'Subtype of property': 'PENTHOUSE', 'Price': 1995000, 'Type of sale': 'residential_sale', 'Number of rooms': 5, 'Area': 277, 'Fully equipped kitchen': 'USA_HYPER_EQUIPPED', 'Furnished': False, 'Open fire': False, 'Terrace': True, 'Terrace area': 111, 'Garden': None, 'Garden area': None, 'Surface of the land': None, 'Surface area of the plot of land': None, 'Number of facades ': 4, 'Swimming pool': False, 'State of the building': 'AS_NEW'}, {'id': 9933883, 'url': 'https://www.immoweb.be/en/classified/duplex/for-sale/molenbeek-saint-jean/1080/9933883?searchId=633ad247d8be9', 'Locality': '1080', 'Type of property': 'APARTMENT', 'Subtype of property': 'DUPLEX', 'Price': 185000, 'Type of sale': 'residential_sale', 'Number of rooms': None, 'Area': 120, 'Fully equipped kitchen': 'NOT_INSTALLED', 'Furnished': False, 'Open fire': False, 'Terrace': None, 'Terrace area': None, 'Garden': None, 'Garden area': None, 'Surface of the land': None, 'Surface area of the plot of land': None, 'Number of facades ': 2, 'Swimming pool': False, 'State of the building': 'TO_RENOVATE'}, {'id': 10142647, 'url': 'https://www.immoweb.be/en/classified/apartment/for-sale/anderlecht/1070/10142647?searchId=633ad247d8be9', 'Locality': '1070', 'Type of property': 'APARTMENT', 'Subtype of property': 'APARTMENT', 'Price': 199990, 'Type of sale': 'residential_sale', 'Number of rooms': None, 'Area': 99, 'Fully equipped kitchen': 'SEMI_EQUIPPED', 'Furnished': False, 'Open fire': False, 'Terrace': True, 'Terrace area': 7, 'Garden': None, 'Garden area': None, 'Surface of the land': None, 'Surface area of the plot of land': None, 'Number of facades ': 3, 'Swimming pool': False, 'State of the building': 'TO_BE_DONE_UP'}, {'id': 10142404, 'url': 'https://www.immoweb.be/en/classified/apartment/for-sale/anderlecht/1070/10142404?searchId=633ad247d8be9', 'Locality': '1070', 'Type of property': 'APARTMENT', 'Subtype of property': 'APARTMENT', 'Price': 255000, 'Type of sale': 'residential_sale', 'Number of rooms': None, 'Area': 66, 'Fully equipped kitchen': 'USA_SEMI_EQUIPPED', 'Furnished': False, 'Open fire': False, 'Terrace': True, 'Terrace area': 13, 'Garden': None, 'Garden area': None, 'Surface of the land': None, 'Surface area of the plot of land': None, 'Number of facades ': 4, 'Swimming pool': False, 'State of the building': 'AS_NEW'}, {'id': 10142522, 'url': 'https://www.immoweb.be/en/classified/apartment/for-sale/bruxelles/1000/10142522?searchId=633ad247d8be9', 'Locality': '1000', 'Type of property': 'APARTMENT', 'Subtype of property': 'APARTMENT', 'Price': 285000, 'Type of sale': 'residential_sale', 'Number of rooms': None, 'Area': 70, 'Fully equipped kitchen': 'USA_UNINSTALLED', 'Furnished': False, 'Open fire': False, 'Terrace': None, 'Terrace area': None, 'Garden': None, 'Garden area': None, 'Surface of the land': None, 'Surface area of the plot of land': None, 'Number of facades ': 2, 'Swimming pool': False, 'State of the building': 'JUST_RENOVATED'}, {'id': 10140627, 'url': 'https://www.immoweb.be/en/classified/duplex/for-sale/ixelles/1050/10140627?searchId=633ad247d8be9', 'Locality': '1050', 'Type of property': 'APARTMENT', 'Subtype of property': 'DUPLEX', 'Price': 395000, 'Type of sale': 'residential_sale', 'Number of rooms': None, 'Area': 98, 'Fully equipped kitchen': 'USA_SEMI_EQUIPPED', 'Furnished': False, 'Open fire': False, 'Terrace': None, 'Terrace area': None, 'Garden': None, 'Garden area': None, 'Surface of the land': None, 'Surface area of the plot of land': None, 'Number of facades ': 2, 'Swimming pool': False, 'State of the building': 'GOOD'}, {'id': 10084941, 'url': 'https://www.immoweb.be/en/classified/apartment/for-sale/gavere/9890/10084941?searchId=633ad247d8be9', 'Locality': '9890', 'Type of property': 'APARTMENT', 'Subtype of property': 'APARTMENT', 'Price': 220000, 'Type of sale': 'residential_sale', 'Number of rooms': None, 'Area': 78, 'Fully equipped kitchen': 'HYPER_EQUIPPED', 'Furnished': False, 'Open fire': False, 'Terrace': True, 'Terrace area': 10, 'Garden': None, 'Garden area': None, 'Surface of the land': None, 'Surface area of the plot of land': None, 'Number of facades ': 4, 'Swimming pool': False, 'State of the building': 'AS_NEW'}, {'id': 10084890, 'url': 'https://www.immoweb.be/en/classified/apartment/for-sale/gavere/9890/10084890?searchId=633ad247d8be9', 'Locality': '9890', 'Type of property': 'APARTMENT', 'Subtype of property': 'APARTMENT', 'Price': 254000, 'Type of sale': 'residential_sale', 'Number of rooms': None, 'Area': 76, 'Fully equipped kitchen': 'HYPER_EQUIPPED', 'Furnished': False, 'Open fire': False, 'Terrace': True, 'Terrace area': 11, 'Garden': None, 'Garden area': None, 'Surface of the land': None, 'Surface area of the plot of land': None, 'Number of facades ': 4, 'Swimming pool': None, 'State of the building': 'AS_NEW'}, {'id': 10132517, 'url': 'https://www.immoweb.be/en/classified/new-real-estate-project-apartments/for-sale/evergem-sleidinge/9940/10132517?searchId=633ad247d8be9', 'Locality': '9940', 'Type of property': 'APARTMENT_GROUP', 'Subtype of property': 'APARTMENT_GROUP', 'Price': None, 'Type of sale': 'group_sale', 'Number of rooms': None, 'Area': None, 'Fully equipped kitchen': None, 'Furnished': None, 'Open fire': False, 'Terrace': None, 'Terrace area': None, 'Garden': None, 'Garden area': None, 'Surface of the land': None, 'Surface area of the plot of land': None, 'Number of facades ': 1, 'Swimming pool': None, 'State of the building': None}, {'id': 10084884, 'url': 'https://www.immoweb.be/en/classified/apartment/for-sale/gavere/9890/10084884?searchId=633ad247d8be9', 'Locality': '9890', 'Type of property': 'APARTMENT', 'Subtype of property': 'APARTMENT', 'Price': 259000, 'Type of sale': 'residential_sale', 'Number of rooms': None, 'Area': 76, 'Fully equipped kitchen': 'HYPER_EQUIPPED', 'Furnished': False, 'Open fire': False, 'Terrace': True, 'Terrace area': 11, 'Garden': None, 'Garden area': None, 'Surface of the land': None, 'Surface area of the plot of land': None, 'Number of facades ': 4, 'Swimming pool': False, 'State of the building': 'AS_NEW'}, {'id': 10084865, 'url': 'https://www.immoweb.be/en/classified/apartment/for-sale/gavere/9890/10084865?searchId=633ad247d8be9', 'Locality': '9890', 'Type of property': 'APARTMENT', 'Subtype of property': 'APARTMENT', 'Price': 280000, 'Type of sale': 'residential_sale', 'Number of rooms': None, 'Area': 95, 'Fully equipped kitchen': 'HYPER_EQUIPPED', 'Furnished': False, 'Open fire': False, 'Terrace': True, 'Terrace area': 11, 'Garden': None, 'Garden area': None, 'Surface of the land': None, 'Surface area of the plot of land': None, 'Number of facades ': 4, 'Swimming pool': False, 'State of the building': 'AS_NEW'}, {'id': 10084862, 'url': 'https://www.immoweb.be/en/classified/apartment/for-sale/gavere/9890/10084862?searchId=633ad247d8be9', 'Locality': '9890', 'Type of property': 'APARTMENT', 'Subtype of property': 'APARTMENT', 'Price': 280000, 'Type of sale': 'residential_sale', 'Number of rooms': None, 'Area': 95, 'Fully equipped kitchen': 'HYPER_EQUIPPED', 'Furnished': False, 'Open fire': False, 'Terrace': True, 'Terrace area': 11, 'Garden': None, 'Garden area': None, 'Surface of the land': None, 'Surface area of the plot of land': None, 'Number of facades ': 4, 'Swimming pool': False, 'State of the building': 'AS_NEW'}, {'id': 10084860, 'url': 'https://www.immoweb.be/en/classified/apartment/for-sale/gavere/9890/10084860?searchId=633ad247d8be9', 'Locality': '9890', 'Type of property': 'APARTMENT', 'Subtype of property': 'APARTMENT', 'Price': 280000, 'Type of sale': 'residential_sale', 'Number of rooms': None, 'Area': 95, 'Fully equipped kitchen': 'HYPER_EQUIPPED', 'Furnished': False, 'Open fire': False, 'Terrace': True, 'Terrace area': 12, 'Garden': None, 'Garden area': None, 'Surface of the land': None, 'Surface area of the plot of land': None, 'Number of facades ': 4, 'Swimming pool': None, 'State of the building': 'AS_NEW'}]\n"
     ]
    }
   ],
   "source": [
    "print (df_element_list)"
   ]
  },
  {
   "cell_type": "markdown",
   "id": "2a4b05e2-b015-44a7-be09-efc130655c74",
   "metadata": {},
   "source": [
    "# Save information into CSV"
   ]
  },
  {
   "cell_type": "code",
   "execution_count": 19,
   "id": "d59d3f54-a9e6-4589-92c2-f9d10c8a2d17",
   "metadata": {},
   "outputs": [],
   "source": [
    "save_to_csv(df_element_list,'df_immo.csv')"
   ]
  },
  {
   "cell_type": "code",
   "execution_count": 20,
   "id": "4f53b10c-0d10-46c5-8fc9-665c65b830e9",
   "metadata": {},
   "outputs": [
    {
     "name": "stdout",
     "output_type": "stream",
     "text": [
      "Done\n",
      "61.603904724121094\n"
     ]
    }
   ],
   "source": [
    "print(\"Done\")\n",
    "main_end = time.time()  #Test\n",
    "print(main_end-main_start)"
   ]
  }
 ],
 "metadata": {
  "kernelspec": {
   "display_name": "Python 3 (ipykernel)",
   "language": "python",
   "name": "python3"
  },
  "language_info": {
   "codemirror_mode": {
    "name": "ipython",
    "version": 3
   },
   "file_extension": ".py",
   "mimetype": "text/x-python",
   "name": "python",
   "nbconvert_exporter": "python",
   "pygments_lexer": "ipython3",
   "version": "3.10.6"
  }
 },
 "nbformat": 4,
 "nbformat_minor": 5
}
