{
 "cells": [
  {
   "cell_type": "code",
   "execution_count": 1,
   "id": "250e6633-dea0-45a0-98ef-882d1f125555",
   "metadata": {},
   "outputs": [],
   "source": [
    "import time\n",
    "from selenium import webdriver\n",
    "from selenium.webdriver.common.keys import Keys\n",
    "from selenium.webdriver.common.by import By\n",
    "from bs4 import BeautifulSoup\n",
    "import json"
   ]
  },
  {
   "cell_type": "markdown",
   "id": "e620beaf-dfb2-4f8e-b579-6cb9e306706a",
   "metadata": {},
   "source": [
    "## get_properties_code"
   ]
  },
  {
   "cell_type": "code",
   "execution_count": 2,
   "id": "a38fb7a3-ceff-425e-8fca-dbbd5c1b252e",
   "metadata": {},
   "outputs": [],
   "source": [
    "def get_property(url):\n",
    "    driver = webdriver.Chrome()\n",
    "    driver.get(url)\n",
    "\n",
    "    #Pass the cookkie banner\n",
    "    time.sleep(2) #its better in a loop\n",
    "    banner_button = driver.find_element(By.XPATH,'//*[@id=\"uc-btn-accept-banner\"]').click()\n",
    "\n",
    "    #info = driver.find_element(By.CLASS_NAME,'classified')  #Gets all info in the page\n",
    "    #info = driver.find_element(By.XPATH,'//head/script[contains(text(),\"window.dataLayer\")]')\n",
    "    html = driver.page_source\n",
    "    soup = BeautifulSoup(html, 'html.parser')\n",
    "    element_info = soup.select('div.classified script')\n",
    "\n",
    "    #print(type(element_info))\n",
    "    text = element_info[0].text\n",
    "\n",
    "    driver.close()\n",
    "\n",
    "    #print(text[33:-2])\n",
    "\n",
    "    return json.loads(\"\".join((\"\".join(text.split('=')[1:]).split(\";\")[:-1])))"
   ]
  },
  {
   "cell_type": "markdown",
   "id": "bd01a56d-dc6c-459e-b466-187b7ae258fd",
   "metadata": {},
   "source": [
    "## Run the code"
   ]
  },
  {
   "cell_type": "markdown",
   "id": "7d4c7303-a5f4-4004-b812-5226eb4811e1",
   "metadata": {},
   "source": [
    "#### time test x1 Url\n",
    "\n",
    "**Run 01**\n",
    "CPU times: user 77.6 ms, sys: 106 µs, total: 77.7 ms\n",
    "Wall time: 5.87 s\n",
    "\n",
    "**Run 02**\n",
    "CPU times: user 77.1 ms, sys: 3.81 ms, total: 80.9 ms\n",
    "Wall time: 6.41 s\n",
    "\n",
    "**Run 03**\n",
    "CPU times: user 79.4 ms, sys: 2.83 ms, total: 82.2 ms\n",
    "Wall time: 6.46 s"
   ]
  },
  {
   "cell_type": "code",
   "execution_count": 14,
   "id": "220de637-8391-4ea3-a954-4ca917671c25",
   "metadata": {
    "tags": []
   },
   "outputs": [
    {
     "name": "stdout",
     "output_type": "stream",
     "text": [
      "CPU times: user 88.9 ms, sys: 0 ns, total: 88.9 ms\n",
      "Wall time: 6.73 s\n"
     ]
    }
   ],
   "source": [
    "%%time\n",
    "url= 'https://www.immoweb.be/en/classified/house/for-sale/remicourt/4350/10140833?searchId=6335b10a6a9f9'\n",
    "x = get_property(url)"
   ]
  },
  {
   "cell_type": "markdown",
   "id": "845bd700-734e-4426-afb4-b17c84850723",
   "metadata": {},
   "source": [
    "### Save information into json"
   ]
  },
  {
   "cell_type": "code",
   "execution_count": 15,
   "id": "4a3d2098-95b9-4d4a-af94-efc5a8e815f9",
   "metadata": {},
   "outputs": [],
   "source": [
    "json_object = json.dumps(x)\n",
    "with open(\"Data.json\",\"w\") as data_file:\n",
    "    data_file.write(json_object)\n",
    "print('saved to json file')"
   ]
  },
  {
   "cell_type": "markdown",
   "id": "3fde5623-4d43-41ac-9898-2d003314118f",
   "metadata": {},
   "source": [
    "#### time test X3 Url\n",
    "**Run 01**\n",
    "CPU times: user 252 ms, sys: 5.62 ms, total: 257 ms\n",
    "Wall time: 20.5 s\n",
    "\n",
    "**Run 02**\n",
    "CPU times: user 264 ms, sys: 6.35 ms, total: 270 ms\n",
    "Wall time: 19.5 s\n",
    "\n",
    "**Run 03**\n",
    "CPU times: user 263 ms, sys: 10.4 ms, total: 274 ms\n",
    "Wall time: 21.3 s"
   ]
  },
  {
   "cell_type": "code",
   "execution_count": 4,
   "id": "31d6d2bb-33f9-4cc8-ba38-505480aef5ae",
   "metadata": {
    "tags": []
   },
   "outputs": [
    {
     "name": "stdout",
     "output_type": "stream",
     "text": [
      "CPU times: user 263 ms, sys: 10.4 ms, total: 274 ms\n",
      "Wall time: 21.3 s\n"
     ]
    }
   ],
   "source": [
    "%%time\n",
    "main_dictionary = dict()\n",
    "url_list = ['https://www.immoweb.be/en/classified/new-real-estate-project-houses/for-sale/testelt/3272/9920767','https://www.immoweb.be/en/classified/new-real-estate-project-houses/for-sale/averbode/3271/10120498','https://www.immoweb.be/en/classified/new-real-estate-project-houses/for-sale/berlaar/2590/10130433']\n",
    "for url in url_list:\n",
    "    main_dictionary[url]=get_property(url)"
   ]
  },
  {
   "cell_type": "markdown",
   "id": "ab48061e-1605-44cc-b437-304ac6840d9c",
   "metadata": {},
   "source": [
    "### Save information into json"
   ]
  },
  {
   "cell_type": "code",
   "execution_count": 16,
   "id": "c686ff7c-f16b-471c-a428-a7d33804f99e",
   "metadata": {},
   "outputs": [],
   "source": [
    "json_object = json.dumps(main_dictionary)\n",
    "with open(\"Main_data.json\",\"w\") as main_data_file:\n",
    "    main_data_file.write(json_object)\n",
    "print('saved to json file')"
   ]
  },
  {
   "cell_type": "code",
   "execution_count": 5,
   "id": "ef8ee1e7-4686-4970-87dd-a37b2c64628c",
   "metadata": {},
   "outputs": [],
   "source": [
    "print(main_dictionary.keys())"
   ]
  },
  {
   "cell_type": "code",
   "execution_count": 6,
   "id": "2b221797-39df-46e6-b4a2-c74bb7f05c8d",
   "metadata": {},
   "outputs": [],
   "source": [
    "print(main_dictionary)"
   ]
  },
  {
   "cell_type": "code",
   "execution_count": null,
   "id": "79da25cc-d123-45ac-a7c6-b13e74e77db8",
   "metadata": {},
   "outputs": [],
   "source": []
  }
 ],
 "metadata": {
  "kernelspec": {
   "display_name": "Python 3 (ipykernel)",
   "language": "python",
   "name": "python3"
  },
  "language_info": {
   "codemirror_mode": {
    "name": "ipython",
    "version": 3
   },
   "file_extension": ".py",
   "mimetype": "text/x-python",
   "name": "python",
   "nbconvert_exporter": "python",
   "pygments_lexer": "ipython3",
   "version": "3.10.6"
  }
 },
 "nbformat": 4,
 "nbformat_minor": 5
}
