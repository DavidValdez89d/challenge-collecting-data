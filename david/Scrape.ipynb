{
 "cells": [
  {
   "cell_type": "code",
   "execution_count": 1,
   "id": "250e6633-dea0-45a0-98ef-882d1f125555",
   "metadata": {},
   "outputs": [],
   "source": [
    "import time\n",
    "from selenium import webdriver\n",
    "from selenium.webdriver.common.keys import Keys\n",
    "from selenium.webdriver.common.by import By\n",
    "from bs4 import BeautifulSoup\n",
    "import json\n",
    "import pandas as pd"
   ]
  },
  {
   "cell_type": "markdown",
   "id": "e620beaf-dfb2-4f8e-b579-6cb9e306706a",
   "metadata": {},
   "source": [
    "## get_properties_code"
   ]
  },
  {
   "cell_type": "code",
   "execution_count": 2,
   "id": "a38fb7a3-ceff-425e-8fca-dbbd5c1b252e",
   "metadata": {},
   "outputs": [],
   "source": [
    "def get_property(url):\n",
    "    driver = webdriver.Chrome()\n",
    "    driver.get(url)\n",
    "\n",
    "    #Pass the cookkie banner\n",
    "    time.sleep(2) #its better in a loop\n",
    "    banner_button = driver.find_element(By.XPATH,'//*[@id=\"uc-btn-accept-banner\"]').click()\n",
    "\n",
    "    #info = driver.find_element(By.CLASS_NAME,'classified')  #Gets all info in the page\n",
    "    #info = driver.find_element(By.XPATH,'//head/script[contains(text(),\"window.dataLayer\")]')\n",
    "    html = driver.page_source\n",
    "    soup = BeautifulSoup(html, 'html.parser')\n",
    "    element_info = soup.select('div.classified script')\n",
    "\n",
    "    #print(type(element_info))\n",
    "    text = element_info[0].text\n",
    "\n",
    "    driver.close()\n",
    "\n",
    "    #print(text[33:-2])\n",
    "\n",
    "    return json.loads(\"\".join((\"\".join(text.split('=')[1:]).split(\";\")[:-1])))"
   ]
  },
  {
   "cell_type": "markdown",
   "id": "bd01a56d-dc6c-459e-b466-187b7ae258fd",
   "metadata": {},
   "source": [
    "## Run the code"
   ]
  },
  {
   "cell_type": "markdown",
   "id": "7d4c7303-a5f4-4004-b812-5226eb4811e1",
   "metadata": {},
   "source": [
    "#### time test x1 Url\n",
    "\n",
    "**Run 01**\n",
    "CPU times: user 77.6 ms, sys: 106 µs, total: 77.7 ms\n",
    "Wall time: 5.87 s\n",
    "\n",
    "**Run 02**\n",
    "CPU times: user 77.1 ms, sys: 3.81 ms, total: 80.9 ms\n",
    "Wall time: 6.41 s\n",
    "\n",
    "**Run 03**\n",
    "CPU times: user 79.4 ms, sys: 2.83 ms, total: 82.2 ms\n",
    "Wall time: 6.46 s"
   ]
  },
  {
   "cell_type": "code",
   "execution_count": 3,
   "id": "220de637-8391-4ea3-a954-4ca917671c25",
   "metadata": {
    "tags": []
   },
   "outputs": [
    {
     "name": "stdout",
     "output_type": "stream",
     "text": [
      "CPU times: user 162 ms, sys: 0 ns, total: 162 ms\n",
      "Wall time: 8.9 s\n"
     ]
    }
   ],
   "source": [
    "%%time\n",
    "url= 'https://www.immoweb.be/en/classified/house/for-sale/remicourt/4350/10140833?searchId=6335b10a6a9f9'\n",
    "x = get_property(url)"
   ]
  },
  {
   "cell_type": "markdown",
   "id": "845bd700-734e-4426-afb4-b17c84850723",
   "metadata": {},
   "source": [
    "### Save information into json"
   ]
  },
  {
   "cell_type": "code",
   "execution_count": 4,
   "id": "4a3d2098-95b9-4d4a-af94-efc5a8e815f9",
   "metadata": {},
   "outputs": [
    {
     "name": "stdout",
     "output_type": "stream",
     "text": [
      "saved to json file\n"
     ]
    }
   ],
   "source": [
    "json_object = json.dumps(x)\n",
    "with open(\"Data.json\",\"w\") as data_file:\n",
    "    data_file.write(json_object)\n",
    "print('saved to json file')"
   ]
  },
  {
   "cell_type": "markdown",
   "id": "3fde5623-4d43-41ac-9898-2d003314118f",
   "metadata": {},
   "source": [
    "#### time test X3 Url\n",
    "**Run 01**\n",
    "CPU times: user 252 ms, sys: 5.62 ms, total: 257 ms\n",
    "Wall time: 20.5 s\n",
    "\n",
    "**Run 02**\n",
    "CPU times: user 264 ms, sys: 6.35 ms, total: 270 ms\n",
    "Wall time: 19.5 s\n",
    "\n",
    "**Run 03**\n",
    "CPU times: user 263 ms, sys: 10.4 ms, total: 274 ms\n",
    "Wall time: 21.3 s"
   ]
  },
  {
   "cell_type": "markdown",
   "id": "5a966605-695c-4c58-a5c7-b91485182311",
   "metadata": {},
   "source": [
    "This part of the code fixes the urls by removing agency links, and ading root url to broken url"
   ]
  },
  {
   "cell_type": "code",
   "execution_count": 20,
   "id": "ce98defa-b6be-4e46-b527-a41e5f51b25f",
   "metadata": {
    "collapsed": true,
    "jupyter": {
     "outputs_hidden": true
    },
    "tags": []
   },
   "outputs": [
    {
     "name": "stdout",
     "output_type": "stream",
     "text": [
      "34\n",
      "31\n",
      "['https://www.immoweb.be/en/classified/house/for-sale/ixelles/1050/10008022?searchId=6336981899ac0', 'https://www.immoweb.be/en/classified/10125449', 'https://www.immoweb.be/en/classified/apartment/for-sale/ixelles/1050/10141214?searchId=6336981899ac0', 'https://www.immoweb.be/en/classified/apartment/for-sale/woluwe-st-lambert/1200/10052020?searchId=6336981899ac0', 'https://www.immoweb.be/en/classified/new-real-estate-project-apartments/for-sale/gent/9000/10140797?searchId=6336981899ac0', 'https://www.immoweb.be/en/classified/new-real-estate-project-apartments/for-sale/roeselare/8800/10140738?searchId=6336981899ac0', 'https://www.immoweb.be/en/classified/house/for-sale/remicourt/4350/10140833?searchId=6336981899ac0', 'https://www.immoweb.be/en/classified/apartment/for-sale/woluwe-saint-lambert/1200/10140583?searchId=6336981899ac0', 'https://www.immoweb.be/en/classified/apartment/for-sale/deinze/9800/10130388?searchId=6336981899ac0', 'https://www.immoweb.be/en/classified/apartment/for-sale/kessel-lo/3010/10142174?searchId=6336981899ac0', 'https://www.immoweb.be/en/classified/new-real-estate-project-houses/for-sale/opwijk/1745/10140459?searchId=6336981899ac0', 'https://www.immoweb.be/en/classified/house/for-sale/ronse/9600/10140837?searchId=6336981899ac0', 'https://www.immoweb.be/en/classified/new-real-estate-project-apartments/for-sale/brussels-city/1000/9881253?searchId=6336981899ac0', 'https://www.immoweb.be/en/classified/duplex/for-sale/wichelen/9260/10138456?searchId=6336981899ac0', 'https://www.immoweb.be/en/classified/new-real-estate-project-apartments/for-sale/zedelgem/8210/10074861?searchId=6336981899ac0', 'https://www.immoweb.be/en/classified/new-real-estate-project-apartments/for-sale/wondelgem/9032/10139511?searchId=6336981899ac0', 'https://www.immoweb.be/en/classified/apartment/for-sale/leuven/3010/10138534?searchId=6336981899ac0', 'https://www.immoweb.be/en/classified/new-real-estate-project-apartments/for-sale/schilde/2970/10139639?searchId=6336981899ac0', 'https://www.immoweb.be/en/classified/house/for-sale/ronse/9600/10138497?searchId=6336981899ac0', 'https://www.immoweb.be/en/classified/apartment/for-sale/wezembeek-oppem/1970/10140213?searchId=6336981899ac0', 'https://www.immoweb.be/en/classified/new-real-estate-project-houses/for-sale/wetteren/9230/10138446?searchId=6336981899ac0', 'https://www.immoweb.be/en/classified/new-real-estate-project-apartments/for-sale/bruxelles/1000/10092917?searchId=6336981899ac0', 'https://www.immoweb.be/en/classified/new-real-estate-project-apartments/for-sale/uccle/1180/10138601?searchId=6336981899ac0', 'https://www.immoweb.be/en/classified/apartment/for-sale/woluwe-saint-lambert/1200/10138633?searchId=6336981899ac0', 'https://www.immoweb.be/en/classified/mixed-use-building/for-sale/grimbergen/1850/10138527?searchId=6336981899ac0', 'https://www.immoweb.be/en/classified/penthouse/for-sale/schaerbeek/1030/10142207?searchId=6336981899ac0', 'https://www.immoweb.be/en/classified/apartment-block/for-sale/ixelles/1050/10138311?searchId=6336981899ac0', 'https://www.immoweb.be/en/classified/flat-studio/for-sale/huy/4500/10137075?searchId=6336981899ac0', 'https://www.immoweb.be/en/classified/new-real-estate-project-apartments/for-sale/brasschaat/2930/10137774?searchId=6336981899ac0', 'https://www.immoweb.be/en/classified/flat-studio/for-sale/schaerbeek/1030/10137594?searchId=6336981899ac0', 'https://www.immoweb.be/en/classified/new-real-estate-project-apartments/for-sale/anderlecht/1070/10137324?searchId=6336981899ac0']\n"
     ]
    }
   ],
   "source": [
    "raw_url_list = ['https://www.immoweb.be/en/classified/house/for-sale/ixelles/1050/10008022?searchId=6336981899ac0', '/en/classified/10125449', 'https://www.immoweb.be/en/classified/apartment/for-sale/ixelles/1050/10141214?searchId=6336981899ac0', '/en/agency/trior-louise/2142301', 'https://www.immoweb.be/en/classified/apartment/for-sale/woluwe-st-lambert/1200/10052020?searchId=6336981899ac0', 'https://www.immoweb.be/en/classified/new-real-estate-project-apartments/for-sale/gent/9000/10140797?searchId=6336981899ac0', 'https://www.immoweb.be/en/classified/new-real-estate-project-apartments/for-sale/roeselare/8800/10140738?searchId=6336981899ac0', '/en/agency/dewaele-brussels-south/3729553', 'https://www.immoweb.be/en/classified/house/for-sale/remicourt/4350/10140833?searchId=6336981899ac0', 'https://www.immoweb.be/en/classified/apartment/for-sale/woluwe-saint-lambert/1200/10140583?searchId=6336981899ac0', 'https://www.immoweb.be/en/classified/apartment/for-sale/deinze/9800/10130388?searchId=6336981899ac0', 'https://www.immoweb.be/en/classified/apartment/for-sale/kessel-lo/3010/10142174?searchId=6336981899ac0', '/en/agency/lecobel-vaneau-bruxelles-sud/2596453', 'https://www.immoweb.be/en/classified/new-real-estate-project-houses/for-sale/opwijk/1745/10140459?searchId=6336981899ac0', 'https://www.immoweb.be/en/classified/house/for-sale/ronse/9600/10140837?searchId=6336981899ac0', 'https://www.immoweb.be/en/classified/new-real-estate-project-apartments/for-sale/brussels-city/1000/9881253?searchId=6336981899ac0', 'https://www.immoweb.be/en/classified/duplex/for-sale/wichelen/9260/10138456?searchId=6336981899ac0', 'https://www.immoweb.be/en/classified/new-real-estate-project-apartments/for-sale/zedelgem/8210/10074861?searchId=6336981899ac0', 'https://www.immoweb.be/en/classified/new-real-estate-project-apartments/for-sale/wondelgem/9032/10139511?searchId=6336981899ac0', 'https://www.immoweb.be/en/classified/apartment/for-sale/leuven/3010/10138534?searchId=6336981899ac0', 'https://www.immoweb.be/en/classified/new-real-estate-project-apartments/for-sale/schilde/2970/10139639?searchId=6336981899ac0', 'https://www.immoweb.be/en/classified/house/for-sale/ronse/9600/10138497?searchId=6336981899ac0', 'https://www.immoweb.be/en/classified/apartment/for-sale/wezembeek-oppem/1970/10140213?searchId=6336981899ac0', 'https://www.immoweb.be/en/classified/new-real-estate-project-houses/for-sale/wetteren/9230/10138446?searchId=6336981899ac0', 'https://www.immoweb.be/en/classified/new-real-estate-project-apartments/for-sale/bruxelles/1000/10092917?searchId=6336981899ac0', 'https://www.immoweb.be/en/classified/new-real-estate-project-apartments/for-sale/uccle/1180/10138601?searchId=6336981899ac0', 'https://www.immoweb.be/en/classified/apartment/for-sale/woluwe-saint-lambert/1200/10138633?searchId=6336981899ac0', 'https://www.immoweb.be/en/classified/mixed-use-building/for-sale/grimbergen/1850/10138527?searchId=6336981899ac0', 'https://www.immoweb.be/en/classified/penthouse/for-sale/schaerbeek/1030/10142207?searchId=6336981899ac0', 'https://www.immoweb.be/en/classified/apartment-block/for-sale/ixelles/1050/10138311?searchId=6336981899ac0', 'https://www.immoweb.be/en/classified/flat-studio/for-sale/huy/4500/10137075?searchId=6336981899ac0', 'https://www.immoweb.be/en/classified/new-real-estate-project-apartments/for-sale/brasschaat/2930/10137774?searchId=6336981899ac0', 'https://www.immoweb.be/en/classified/flat-studio/for-sale/schaerbeek/1030/10137594?searchId=6336981899ac0', 'https://www.immoweb.be/en/classified/new-real-estate-project-apartments/for-sale/anderlecht/1070/10137324?searchId=6336981899ac0']\n",
    "url_list = []\n",
    "for link in raw_url_list:\n",
    "    if '/agency' in link: \n",
    "        pass\n",
    "    elif 'https://www.immoweb.be' not in link:\n",
    "        link = 'https://www.immoweb.be' + link\n",
    "        url_list.append(link)\n",
    "    else:\n",
    "        url_list.append(link)\n",
    "        \n",
    "print(len(raw_url_list))\n",
    "print(len(url_list))\n",
    "print(url_list)"
   ]
  },
  {
   "cell_type": "markdown",
   "id": "2fae291c-b91d-4db9-bec4-9548dec3f732",
   "metadata": {},
   "source": [
    "This part runs the code for each given link"
   ]
  },
  {
   "cell_type": "code",
   "execution_count": 21,
   "id": "31d6d2bb-33f9-4cc8-ba38-505480aef5ae",
   "metadata": {
    "tags": []
   },
   "outputs": [
    {
     "name": "stdout",
     "output_type": "stream",
     "text": [
      "CPU times: user 5.03 s, sys: 69.3 ms, total: 5.1 s\n",
      "Wall time: 5min 4s\n"
     ]
    }
   ],
   "source": [
    "%%time\n",
    "main_dictionary = dict()\n",
    "for url in url_list:\n",
    "    main_dictionary[url]=get_property(url)"
   ]
  },
  {
   "cell_type": "markdown",
   "id": "b1ef1fb3-6c20-458f-a134-451a5fcc33aa",
   "metadata": {},
   "source": [
    "At this poin we have a main_dictionary that contains:\n",
    "- Url\n",
    "  - Raw element information"
   ]
  },
  {
   "cell_type": "markdown",
   "id": "ab48061e-1605-44cc-b437-304ac6840d9c",
   "metadata": {},
   "source": [
    "### Save information into json file"
   ]
  },
  {
   "cell_type": "code",
   "execution_count": 22,
   "id": "c686ff7c-f16b-471c-a428-a7d33804f99e",
   "metadata": {},
   "outputs": [
    {
     "name": "stdout",
     "output_type": "stream",
     "text": [
      "saved to json file\n"
     ]
    }
   ],
   "source": [
    "json_object = json.dumps(main_dictionary)\n",
    "with open(\"Main_data.json\",\"w\") as main_data_file:\n",
    "    main_data_file.write(json_object)\n",
    "print('saved to json file')"
   ]
  },
  {
   "cell_type": "code",
   "execution_count": 7,
   "id": "ef8ee1e7-4686-4970-87dd-a37b2c64628c",
   "metadata": {},
   "outputs": [],
   "source": [
    "#print(main_dictionary.keys())"
   ]
  },
  {
   "cell_type": "code",
   "execution_count": 8,
   "id": "2b221797-39df-46e6-b4a2-c74bb7f05c8d",
   "metadata": {},
   "outputs": [],
   "source": [
    "#print(main_dictionary)"
   ]
  },
  {
   "cell_type": "code",
   "execution_count": 14,
   "id": "79da25cc-d123-45ac-a7c6-b13e74e77db8",
   "metadata": {
    "collapsed": true,
    "jupyter": {
     "outputs_hidden": true
    },
    "tags": []
   },
   "outputs": [
    {
     "name": "stdout",
     "output_type": "stream",
     "text": [
      "<class 'dict'>\n",
      "{'url': 'https://www.immoweb.be/en/classified/new-real-estate-project-houses/for-sale/berlaar/2590/10130433', 'id': 10140833, 'Locality': 'Remicourt', 'Type of property': 'HOUSE', 'Subtype of property': 'HOUSE', 'Price': 300000, 'Type of sale': 'residential_sale', 'Number of rooms': '?', 'Area': 125, 'Fully equipped kitchen': 'INSTALLED', 'Furnished': '?', 'Open fire': ['fireplaceExists'], 'Terrace': ['hasTerrace'], 'Terrace area': ['terraceSurface'], 'Garden': True, 'Garden area': 540, 'Surface of the land': 714, 'Surface area of the plot of land': '?', 'Number of facades ': 4, 'Swimming pool': False, 'State of the building': 'GOOD'}\n",
      "CPU times: user 359 µs, sys: 25 µs, total: 384 µs\n",
      "Wall time: 448 µs\n"
     ]
    }
   ],
   "source": [
    "%%time\n",
    "print(type(x))\n",
    "info = {\n",
    "    'url': url,\n",
    "    'id': x['id'],\n",
    "    'Locality': x['property']['location']['locality'],\n",
    "    'Type of property': x['property']['type'],\n",
    "    'Subtype of property': x['property']['subtype'],\n",
    "    'Price': x['price']['mainValue'],\n",
    "    'Type of sale': x['price']['type'],\n",
    "    'Number of rooms': '?',  #Dont know what to take\n",
    "    'Area': x['property']['netHabitableSurface'],\n",
    "    'Fully equipped kitchen': x['property']['kitchen']['type'], #here are several values... look for fully equiped\n",
    "    'Furnished': '?',  #Dont know what to take\n",
    "    'Open fire': ['fireplaceExists'],\n",
    "    'Terrace': ['hasTerrace'],\n",
    "    'Terrace area': ['terraceSurface'],\n",
    "    'Garden': x['property']['hasGarden'],\n",
    "    'Garden area': x['property']['gardenSurface'],\n",
    "    'Surface of the land': x['property']['land']['surface'],\n",
    "    'Surface area of the plot of land': '?',  #Dont know what to take\n",
    "    'Number of facades ': x['property']['building']['facadeCount'],\n",
    "    'Swimming pool': x['property']['hasSwimmingPool'],\n",
    "    'State of the building': x['property']['building']['condition']    \n",
    "}\n",
    "print(info)"
   ]
  },
  {
   "cell_type": "markdown",
   "id": "e1ed9aaa-e06d-4138-88e6-2a3175903843",
   "metadata": {},
   "source": [
    "Send dictionary to CVS file each 36 loop"
   ]
  },
  {
   "cell_type": "markdown",
   "id": "0f8af7d1-03e4-4d3a-a700-0b539ddb4c84",
   "metadata": {},
   "source": [
    "Done"
   ]
  },
  {
   "cell_type": "code",
   "execution_count": 51,
   "id": "e1efef88-2c51-442e-9a44-a1764c03eb31",
   "metadata": {
    "tags": []
   },
   "outputs": [
    {
     "name": "stdout",
     "output_type": "stream",
     "text": [
      "{'url': 'https://www.immoweb.be/en/classified/house/for-sale/ixelles/1050/10008022?searchId=6336981899ac0', 'id': 10140833, 'Locality': 'Remicourt', 'Type of property': 'HOUSE', 'Subtype of property': 'HOUSE', 'Price': 300000, 'Type of sale': 'residential_sale', 'Number of rooms': '?', 'Area': 125, 'Fully equipped kitchen': 'INSTALLED', 'Furnished': '?', 'Open fire': ['fireplaceExists'], 'Terrace': ['hasTerrace'], 'Terrace area': ['terraceSurface'], 'Garden': True, 'Garden area': 540, 'Surface of the land': 714, 'Surface area of the plot of land': '?', 'Number of facades ': 4, 'Swimming pool': False, 'State of the building': 'GOOD'}\n",
      "\n",
      "\n",
      "{'url': 'https://www.immoweb.be/en/classified/10125449', 'id': 10140833, 'Locality': 'Remicourt', 'Type of property': 'HOUSE', 'Subtype of property': 'HOUSE', 'Price': 300000, 'Type of sale': 'residential_sale', 'Number of rooms': '?', 'Area': 125, 'Fully equipped kitchen': 'INSTALLED', 'Furnished': '?', 'Open fire': ['fireplaceExists'], 'Terrace': ['hasTerrace'], 'Terrace area': ['terraceSurface'], 'Garden': True, 'Garden area': 540, 'Surface of the land': 714, 'Surface area of the plot of land': '?', 'Number of facades ': 4, 'Swimming pool': False, 'State of the building': 'GOOD'}\n",
      "\n",
      "\n",
      "{'url': 'https://www.immoweb.be/en/classified/apartment/for-sale/ixelles/1050/10141214?searchId=6336981899ac0', 'id': 10140833, 'Locality': 'Remicourt', 'Type of property': 'HOUSE', 'Subtype of property': 'HOUSE', 'Price': 300000, 'Type of sale': 'residential_sale', 'Number of rooms': '?', 'Area': 125, 'Fully equipped kitchen': 'INSTALLED', 'Furnished': '?', 'Open fire': ['fireplaceExists'], 'Terrace': ['hasTerrace'], 'Terrace area': ['terraceSurface'], 'Garden': True, 'Garden area': 540, 'Surface of the land': 714, 'Surface area of the plot of land': '?', 'Number of facades ': 4, 'Swimming pool': False, 'State of the building': 'GOOD'}\n",
      "\n",
      "\n",
      "{'url': 'https://www.immoweb.be/en/classified/apartment/for-sale/woluwe-st-lambert/1200/10052020?searchId=6336981899ac0', 'id': 10140833, 'Locality': 'Remicourt', 'Type of property': 'HOUSE', 'Subtype of property': 'HOUSE', 'Price': 300000, 'Type of sale': 'residential_sale', 'Number of rooms': '?', 'Area': 125, 'Fully equipped kitchen': 'INSTALLED', 'Furnished': '?', 'Open fire': ['fireplaceExists'], 'Terrace': ['hasTerrace'], 'Terrace area': ['terraceSurface'], 'Garden': True, 'Garden area': 540, 'Surface of the land': 714, 'Surface area of the plot of land': '?', 'Number of facades ': 4, 'Swimming pool': False, 'State of the building': 'GOOD'}\n",
      "\n",
      "\n",
      "{'url': 'https://www.immoweb.be/en/classified/new-real-estate-project-apartments/for-sale/gent/9000/10140797?searchId=6336981899ac0', 'id': 10140833, 'Locality': 'Remicourt', 'Type of property': 'HOUSE', 'Subtype of property': 'HOUSE', 'Price': 300000, 'Type of sale': 'residential_sale', 'Number of rooms': '?', 'Area': 125, 'Fully equipped kitchen': 'INSTALLED', 'Furnished': '?', 'Open fire': ['fireplaceExists'], 'Terrace': ['hasTerrace'], 'Terrace area': ['terraceSurface'], 'Garden': True, 'Garden area': 540, 'Surface of the land': 714, 'Surface area of the plot of land': '?', 'Number of facades ': 4, 'Swimming pool': False, 'State of the building': 'GOOD'}\n",
      "\n",
      "\n",
      "{'url': 'https://www.immoweb.be/en/classified/new-real-estate-project-apartments/for-sale/roeselare/8800/10140738?searchId=6336981899ac0', 'id': 10140833, 'Locality': 'Remicourt', 'Type of property': 'HOUSE', 'Subtype of property': 'HOUSE', 'Price': 300000, 'Type of sale': 'residential_sale', 'Number of rooms': '?', 'Area': 125, 'Fully equipped kitchen': 'INSTALLED', 'Furnished': '?', 'Open fire': ['fireplaceExists'], 'Terrace': ['hasTerrace'], 'Terrace area': ['terraceSurface'], 'Garden': True, 'Garden area': 540, 'Surface of the land': 714, 'Surface area of the plot of land': '?', 'Number of facades ': 4, 'Swimming pool': False, 'State of the building': 'GOOD'}\n",
      "\n",
      "\n",
      "{'url': 'https://www.immoweb.be/en/classified/house/for-sale/remicourt/4350/10140833?searchId=6336981899ac0', 'id': 10140833, 'Locality': 'Remicourt', 'Type of property': 'HOUSE', 'Subtype of property': 'HOUSE', 'Price': 300000, 'Type of sale': 'residential_sale', 'Number of rooms': '?', 'Area': 125, 'Fully equipped kitchen': 'INSTALLED', 'Furnished': '?', 'Open fire': ['fireplaceExists'], 'Terrace': ['hasTerrace'], 'Terrace area': ['terraceSurface'], 'Garden': True, 'Garden area': 540, 'Surface of the land': 714, 'Surface area of the plot of land': '?', 'Number of facades ': 4, 'Swimming pool': False, 'State of the building': 'GOOD'}\n",
      "\n",
      "\n",
      "{'url': 'https://www.immoweb.be/en/classified/apartment/for-sale/woluwe-saint-lambert/1200/10140583?searchId=6336981899ac0', 'id': 10140833, 'Locality': 'Remicourt', 'Type of property': 'HOUSE', 'Subtype of property': 'HOUSE', 'Price': 300000, 'Type of sale': 'residential_sale', 'Number of rooms': '?', 'Area': 125, 'Fully equipped kitchen': 'INSTALLED', 'Furnished': '?', 'Open fire': ['fireplaceExists'], 'Terrace': ['hasTerrace'], 'Terrace area': ['terraceSurface'], 'Garden': True, 'Garden area': 540, 'Surface of the land': 714, 'Surface area of the plot of land': '?', 'Number of facades ': 4, 'Swimming pool': False, 'State of the building': 'GOOD'}\n",
      "\n",
      "\n",
      "{'url': 'https://www.immoweb.be/en/classified/apartment/for-sale/deinze/9800/10130388?searchId=6336981899ac0', 'id': 10140833, 'Locality': 'Remicourt', 'Type of property': 'HOUSE', 'Subtype of property': 'HOUSE', 'Price': 300000, 'Type of sale': 'residential_sale', 'Number of rooms': '?', 'Area': 125, 'Fully equipped kitchen': 'INSTALLED', 'Furnished': '?', 'Open fire': ['fireplaceExists'], 'Terrace': ['hasTerrace'], 'Terrace area': ['terraceSurface'], 'Garden': True, 'Garden area': 540, 'Surface of the land': 714, 'Surface area of the plot of land': '?', 'Number of facades ': 4, 'Swimming pool': False, 'State of the building': 'GOOD'}\n",
      "\n",
      "\n",
      "{'url': 'https://www.immoweb.be/en/classified/apartment/for-sale/kessel-lo/3010/10142174?searchId=6336981899ac0', 'id': 10140833, 'Locality': 'Remicourt', 'Type of property': 'HOUSE', 'Subtype of property': 'HOUSE', 'Price': 300000, 'Type of sale': 'residential_sale', 'Number of rooms': '?', 'Area': 125, 'Fully equipped kitchen': 'INSTALLED', 'Furnished': '?', 'Open fire': ['fireplaceExists'], 'Terrace': ['hasTerrace'], 'Terrace area': ['terraceSurface'], 'Garden': True, 'Garden area': 540, 'Surface of the land': 714, 'Surface area of the plot of land': '?', 'Number of facades ': 4, 'Swimming pool': False, 'State of the building': 'GOOD'}\n",
      "\n",
      "\n",
      "{'url': 'https://www.immoweb.be/en/classified/new-real-estate-project-houses/for-sale/opwijk/1745/10140459?searchId=6336981899ac0', 'id': 10140833, 'Locality': 'Remicourt', 'Type of property': 'HOUSE', 'Subtype of property': 'HOUSE', 'Price': 300000, 'Type of sale': 'residential_sale', 'Number of rooms': '?', 'Area': 125, 'Fully equipped kitchen': 'INSTALLED', 'Furnished': '?', 'Open fire': ['fireplaceExists'], 'Terrace': ['hasTerrace'], 'Terrace area': ['terraceSurface'], 'Garden': True, 'Garden area': 540, 'Surface of the land': 714, 'Surface area of the plot of land': '?', 'Number of facades ': 4, 'Swimming pool': False, 'State of the building': 'GOOD'}\n",
      "\n",
      "\n",
      "{'url': 'https://www.immoweb.be/en/classified/house/for-sale/ronse/9600/10140837?searchId=6336981899ac0', 'id': 10140833, 'Locality': 'Remicourt', 'Type of property': 'HOUSE', 'Subtype of property': 'HOUSE', 'Price': 300000, 'Type of sale': 'residential_sale', 'Number of rooms': '?', 'Area': 125, 'Fully equipped kitchen': 'INSTALLED', 'Furnished': '?', 'Open fire': ['fireplaceExists'], 'Terrace': ['hasTerrace'], 'Terrace area': ['terraceSurface'], 'Garden': True, 'Garden area': 540, 'Surface of the land': 714, 'Surface area of the plot of land': '?', 'Number of facades ': 4, 'Swimming pool': False, 'State of the building': 'GOOD'}\n",
      "\n",
      "\n",
      "{'url': 'https://www.immoweb.be/en/classified/new-real-estate-project-apartments/for-sale/brussels-city/1000/9881253?searchId=6336981899ac0', 'id': 10140833, 'Locality': 'Remicourt', 'Type of property': 'HOUSE', 'Subtype of property': 'HOUSE', 'Price': 300000, 'Type of sale': 'residential_sale', 'Number of rooms': '?', 'Area': 125, 'Fully equipped kitchen': 'INSTALLED', 'Furnished': '?', 'Open fire': ['fireplaceExists'], 'Terrace': ['hasTerrace'], 'Terrace area': ['terraceSurface'], 'Garden': True, 'Garden area': 540, 'Surface of the land': 714, 'Surface area of the plot of land': '?', 'Number of facades ': 4, 'Swimming pool': False, 'State of the building': 'GOOD'}\n",
      "\n",
      "\n",
      "{'url': 'https://www.immoweb.be/en/classified/duplex/for-sale/wichelen/9260/10138456?searchId=6336981899ac0', 'id': 10140833, 'Locality': 'Remicourt', 'Type of property': 'HOUSE', 'Subtype of property': 'HOUSE', 'Price': 300000, 'Type of sale': 'residential_sale', 'Number of rooms': '?', 'Area': 125, 'Fully equipped kitchen': 'INSTALLED', 'Furnished': '?', 'Open fire': ['fireplaceExists'], 'Terrace': ['hasTerrace'], 'Terrace area': ['terraceSurface'], 'Garden': True, 'Garden area': 540, 'Surface of the land': 714, 'Surface area of the plot of land': '?', 'Number of facades ': 4, 'Swimming pool': False, 'State of the building': 'GOOD'}\n",
      "\n",
      "\n",
      "{'url': 'https://www.immoweb.be/en/classified/new-real-estate-project-apartments/for-sale/zedelgem/8210/10074861?searchId=6336981899ac0', 'id': 10140833, 'Locality': 'Remicourt', 'Type of property': 'HOUSE', 'Subtype of property': 'HOUSE', 'Price': 300000, 'Type of sale': 'residential_sale', 'Number of rooms': '?', 'Area': 125, 'Fully equipped kitchen': 'INSTALLED', 'Furnished': '?', 'Open fire': ['fireplaceExists'], 'Terrace': ['hasTerrace'], 'Terrace area': ['terraceSurface'], 'Garden': True, 'Garden area': 540, 'Surface of the land': 714, 'Surface area of the plot of land': '?', 'Number of facades ': 4, 'Swimming pool': False, 'State of the building': 'GOOD'}\n",
      "\n",
      "\n",
      "{'url': 'https://www.immoweb.be/en/classified/new-real-estate-project-apartments/for-sale/wondelgem/9032/10139511?searchId=6336981899ac0', 'id': 10140833, 'Locality': 'Remicourt', 'Type of property': 'HOUSE', 'Subtype of property': 'HOUSE', 'Price': 300000, 'Type of sale': 'residential_sale', 'Number of rooms': '?', 'Area': 125, 'Fully equipped kitchen': 'INSTALLED', 'Furnished': '?', 'Open fire': ['fireplaceExists'], 'Terrace': ['hasTerrace'], 'Terrace area': ['terraceSurface'], 'Garden': True, 'Garden area': 540, 'Surface of the land': 714, 'Surface area of the plot of land': '?', 'Number of facades ': 4, 'Swimming pool': False, 'State of the building': 'GOOD'}\n",
      "\n",
      "\n",
      "{'url': 'https://www.immoweb.be/en/classified/apartment/for-sale/leuven/3010/10138534?searchId=6336981899ac0', 'id': 10140833, 'Locality': 'Remicourt', 'Type of property': 'HOUSE', 'Subtype of property': 'HOUSE', 'Price': 300000, 'Type of sale': 'residential_sale', 'Number of rooms': '?', 'Area': 125, 'Fully equipped kitchen': 'INSTALLED', 'Furnished': '?', 'Open fire': ['fireplaceExists'], 'Terrace': ['hasTerrace'], 'Terrace area': ['terraceSurface'], 'Garden': True, 'Garden area': 540, 'Surface of the land': 714, 'Surface area of the plot of land': '?', 'Number of facades ': 4, 'Swimming pool': False, 'State of the building': 'GOOD'}\n",
      "\n",
      "\n",
      "{'url': 'https://www.immoweb.be/en/classified/new-real-estate-project-apartments/for-sale/schilde/2970/10139639?searchId=6336981899ac0', 'id': 10140833, 'Locality': 'Remicourt', 'Type of property': 'HOUSE', 'Subtype of property': 'HOUSE', 'Price': 300000, 'Type of sale': 'residential_sale', 'Number of rooms': '?', 'Area': 125, 'Fully equipped kitchen': 'INSTALLED', 'Furnished': '?', 'Open fire': ['fireplaceExists'], 'Terrace': ['hasTerrace'], 'Terrace area': ['terraceSurface'], 'Garden': True, 'Garden area': 540, 'Surface of the land': 714, 'Surface area of the plot of land': '?', 'Number of facades ': 4, 'Swimming pool': False, 'State of the building': 'GOOD'}\n",
      "\n",
      "\n",
      "{'url': 'https://www.immoweb.be/en/classified/house/for-sale/ronse/9600/10138497?searchId=6336981899ac0', 'id': 10140833, 'Locality': 'Remicourt', 'Type of property': 'HOUSE', 'Subtype of property': 'HOUSE', 'Price': 300000, 'Type of sale': 'residential_sale', 'Number of rooms': '?', 'Area': 125, 'Fully equipped kitchen': 'INSTALLED', 'Furnished': '?', 'Open fire': ['fireplaceExists'], 'Terrace': ['hasTerrace'], 'Terrace area': ['terraceSurface'], 'Garden': True, 'Garden area': 540, 'Surface of the land': 714, 'Surface area of the plot of land': '?', 'Number of facades ': 4, 'Swimming pool': False, 'State of the building': 'GOOD'}\n",
      "\n",
      "\n",
      "{'url': 'https://www.immoweb.be/en/classified/apartment/for-sale/wezembeek-oppem/1970/10140213?searchId=6336981899ac0', 'id': 10140833, 'Locality': 'Remicourt', 'Type of property': 'HOUSE', 'Subtype of property': 'HOUSE', 'Price': 300000, 'Type of sale': 'residential_sale', 'Number of rooms': '?', 'Area': 125, 'Fully equipped kitchen': 'INSTALLED', 'Furnished': '?', 'Open fire': ['fireplaceExists'], 'Terrace': ['hasTerrace'], 'Terrace area': ['terraceSurface'], 'Garden': True, 'Garden area': 540, 'Surface of the land': 714, 'Surface area of the plot of land': '?', 'Number of facades ': 4, 'Swimming pool': False, 'State of the building': 'GOOD'}\n",
      "\n",
      "\n",
      "{'url': 'https://www.immoweb.be/en/classified/new-real-estate-project-houses/for-sale/wetteren/9230/10138446?searchId=6336981899ac0', 'id': 10140833, 'Locality': 'Remicourt', 'Type of property': 'HOUSE', 'Subtype of property': 'HOUSE', 'Price': 300000, 'Type of sale': 'residential_sale', 'Number of rooms': '?', 'Area': 125, 'Fully equipped kitchen': 'INSTALLED', 'Furnished': '?', 'Open fire': ['fireplaceExists'], 'Terrace': ['hasTerrace'], 'Terrace area': ['terraceSurface'], 'Garden': True, 'Garden area': 540, 'Surface of the land': 714, 'Surface area of the plot of land': '?', 'Number of facades ': 4, 'Swimming pool': False, 'State of the building': 'GOOD'}\n",
      "\n",
      "\n",
      "{'url': 'https://www.immoweb.be/en/classified/new-real-estate-project-apartments/for-sale/bruxelles/1000/10092917?searchId=6336981899ac0', 'id': 10140833, 'Locality': 'Remicourt', 'Type of property': 'HOUSE', 'Subtype of property': 'HOUSE', 'Price': 300000, 'Type of sale': 'residential_sale', 'Number of rooms': '?', 'Area': 125, 'Fully equipped kitchen': 'INSTALLED', 'Furnished': '?', 'Open fire': ['fireplaceExists'], 'Terrace': ['hasTerrace'], 'Terrace area': ['terraceSurface'], 'Garden': True, 'Garden area': 540, 'Surface of the land': 714, 'Surface area of the plot of land': '?', 'Number of facades ': 4, 'Swimming pool': False, 'State of the building': 'GOOD'}\n",
      "\n",
      "\n",
      "{'url': 'https://www.immoweb.be/en/classified/new-real-estate-project-apartments/for-sale/uccle/1180/10138601?searchId=6336981899ac0', 'id': 10140833, 'Locality': 'Remicourt', 'Type of property': 'HOUSE', 'Subtype of property': 'HOUSE', 'Price': 300000, 'Type of sale': 'residential_sale', 'Number of rooms': '?', 'Area': 125, 'Fully equipped kitchen': 'INSTALLED', 'Furnished': '?', 'Open fire': ['fireplaceExists'], 'Terrace': ['hasTerrace'], 'Terrace area': ['terraceSurface'], 'Garden': True, 'Garden area': 540, 'Surface of the land': 714, 'Surface area of the plot of land': '?', 'Number of facades ': 4, 'Swimming pool': False, 'State of the building': 'GOOD'}\n",
      "\n",
      "\n",
      "{'url': 'https://www.immoweb.be/en/classified/apartment/for-sale/woluwe-saint-lambert/1200/10138633?searchId=6336981899ac0', 'id': 10140833, 'Locality': 'Remicourt', 'Type of property': 'HOUSE', 'Subtype of property': 'HOUSE', 'Price': 300000, 'Type of sale': 'residential_sale', 'Number of rooms': '?', 'Area': 125, 'Fully equipped kitchen': 'INSTALLED', 'Furnished': '?', 'Open fire': ['fireplaceExists'], 'Terrace': ['hasTerrace'], 'Terrace area': ['terraceSurface'], 'Garden': True, 'Garden area': 540, 'Surface of the land': 714, 'Surface area of the plot of land': '?', 'Number of facades ': 4, 'Swimming pool': False, 'State of the building': 'GOOD'}\n",
      "\n",
      "\n",
      "{'url': 'https://www.immoweb.be/en/classified/mixed-use-building/for-sale/grimbergen/1850/10138527?searchId=6336981899ac0', 'id': 10140833, 'Locality': 'Remicourt', 'Type of property': 'HOUSE', 'Subtype of property': 'HOUSE', 'Price': 300000, 'Type of sale': 'residential_sale', 'Number of rooms': '?', 'Area': 125, 'Fully equipped kitchen': 'INSTALLED', 'Furnished': '?', 'Open fire': ['fireplaceExists'], 'Terrace': ['hasTerrace'], 'Terrace area': ['terraceSurface'], 'Garden': True, 'Garden area': 540, 'Surface of the land': 714, 'Surface area of the plot of land': '?', 'Number of facades ': 4, 'Swimming pool': False, 'State of the building': 'GOOD'}\n",
      "\n",
      "\n",
      "{'url': 'https://www.immoweb.be/en/classified/penthouse/for-sale/schaerbeek/1030/10142207?searchId=6336981899ac0', 'id': 10140833, 'Locality': 'Remicourt', 'Type of property': 'HOUSE', 'Subtype of property': 'HOUSE', 'Price': 300000, 'Type of sale': 'residential_sale', 'Number of rooms': '?', 'Area': 125, 'Fully equipped kitchen': 'INSTALLED', 'Furnished': '?', 'Open fire': ['fireplaceExists'], 'Terrace': ['hasTerrace'], 'Terrace area': ['terraceSurface'], 'Garden': True, 'Garden area': 540, 'Surface of the land': 714, 'Surface area of the plot of land': '?', 'Number of facades ': 4, 'Swimming pool': False, 'State of the building': 'GOOD'}\n",
      "\n",
      "\n",
      "{'url': 'https://www.immoweb.be/en/classified/apartment-block/for-sale/ixelles/1050/10138311?searchId=6336981899ac0', 'id': 10140833, 'Locality': 'Remicourt', 'Type of property': 'HOUSE', 'Subtype of property': 'HOUSE', 'Price': 300000, 'Type of sale': 'residential_sale', 'Number of rooms': '?', 'Area': 125, 'Fully equipped kitchen': 'INSTALLED', 'Furnished': '?', 'Open fire': ['fireplaceExists'], 'Terrace': ['hasTerrace'], 'Terrace area': ['terraceSurface'], 'Garden': True, 'Garden area': 540, 'Surface of the land': 714, 'Surface area of the plot of land': '?', 'Number of facades ': 4, 'Swimming pool': False, 'State of the building': 'GOOD'}\n",
      "\n",
      "\n",
      "{'url': 'https://www.immoweb.be/en/classified/flat-studio/for-sale/huy/4500/10137075?searchId=6336981899ac0', 'id': 10140833, 'Locality': 'Remicourt', 'Type of property': 'HOUSE', 'Subtype of property': 'HOUSE', 'Price': 300000, 'Type of sale': 'residential_sale', 'Number of rooms': '?', 'Area': 125, 'Fully equipped kitchen': 'INSTALLED', 'Furnished': '?', 'Open fire': ['fireplaceExists'], 'Terrace': ['hasTerrace'], 'Terrace area': ['terraceSurface'], 'Garden': True, 'Garden area': 540, 'Surface of the land': 714, 'Surface area of the plot of land': '?', 'Number of facades ': 4, 'Swimming pool': False, 'State of the building': 'GOOD'}\n",
      "\n",
      "\n",
      "{'url': 'https://www.immoweb.be/en/classified/new-real-estate-project-apartments/for-sale/brasschaat/2930/10137774?searchId=6336981899ac0', 'id': 10140833, 'Locality': 'Remicourt', 'Type of property': 'HOUSE', 'Subtype of property': 'HOUSE', 'Price': 300000, 'Type of sale': 'residential_sale', 'Number of rooms': '?', 'Area': 125, 'Fully equipped kitchen': 'INSTALLED', 'Furnished': '?', 'Open fire': ['fireplaceExists'], 'Terrace': ['hasTerrace'], 'Terrace area': ['terraceSurface'], 'Garden': True, 'Garden area': 540, 'Surface of the land': 714, 'Surface area of the plot of land': '?', 'Number of facades ': 4, 'Swimming pool': False, 'State of the building': 'GOOD'}\n",
      "\n",
      "\n",
      "{'url': 'https://www.immoweb.be/en/classified/flat-studio/for-sale/schaerbeek/1030/10137594?searchId=6336981899ac0', 'id': 10140833, 'Locality': 'Remicourt', 'Type of property': 'HOUSE', 'Subtype of property': 'HOUSE', 'Price': 300000, 'Type of sale': 'residential_sale', 'Number of rooms': '?', 'Area': 125, 'Fully equipped kitchen': 'INSTALLED', 'Furnished': '?', 'Open fire': ['fireplaceExists'], 'Terrace': ['hasTerrace'], 'Terrace area': ['terraceSurface'], 'Garden': True, 'Garden area': 540, 'Surface of the land': 714, 'Surface area of the plot of land': '?', 'Number of facades ': 4, 'Swimming pool': False, 'State of the building': 'GOOD'}\n",
      "\n",
      "\n",
      "{'url': 'https://www.immoweb.be/en/classified/new-real-estate-project-apartments/for-sale/anderlecht/1070/10137324?searchId=6336981899ac0', 'id': 10140833, 'Locality': 'Remicourt', 'Type of property': 'HOUSE', 'Subtype of property': 'HOUSE', 'Price': 300000, 'Type of sale': 'residential_sale', 'Number of rooms': '?', 'Area': 125, 'Fully equipped kitchen': 'INSTALLED', 'Furnished': '?', 'Open fire': ['fireplaceExists'], 'Terrace': ['hasTerrace'], 'Terrace area': ['terraceSurface'], 'Garden': True, 'Garden area': 540, 'Surface of the land': 714, 'Surface area of the plot of land': '?', 'Number of facades ': 4, 'Swimming pool': False, 'State of the building': 'GOOD'}\n",
      "\n",
      "\n"
     ]
    }
   ],
   "source": [
    "#print(main_dictionary.values())\n",
    "data_main_dictionary = dict()\n",
    "for element in main_dictionary.keys():\n",
    "    #print(main_dictionary.values())\n",
    "    element_data = {\n",
    "    'url': element,\n",
    "    'id': x['id'],\n",
    "    'Locality': x['property']['location']['locality'],\n",
    "    'Type of property': x['property']['type'],\n",
    "    'Subtype of property': x['property']['subtype'],\n",
    "    'Price': x['price']['mainValue'],\n",
    "    'Type of sale': x['price']['type'],\n",
    "    'Number of rooms': '?',  #Dont know what to take\n",
    "    'Area': x['property']['netHabitableSurface'],\n",
    "    'Fully equipped kitchen': x['property']['kitchen']['type'], #here are several values... look for fully equiped\n",
    "    'Furnished': '?',  #Dont know what to take\n",
    "    'Open fire': ['fireplaceExists'],\n",
    "    'Terrace': ['hasTerrace'],\n",
    "    'Terrace area': ['terraceSurface'],\n",
    "    'Garden': x['property']['hasGarden'],\n",
    "    'Garden area': x['property']['gardenSurface'],\n",
    "    'Surface of the land': x['property']['land']['surface'],\n",
    "    'Surface area of the plot of land': '?',  #Dont know what to take\n",
    "    'Number of facades ': x['property']['building']['facadeCount'],\n",
    "    'Swimming pool': x['property']['hasSwimmingPool'],\n",
    "    'State of the building': x['property']['building']['condition']    \n",
    "    }\n",
    "    print(element_data)\n",
    "    \n",
    "    \n",
    "    print('\\n')\n"
   ]
  },
  {
   "cell_type": "code",
   "execution_count": null,
   "id": "aace4fcc-ffe2-4dbe-9ad0-2f5005d81feb",
   "metadata": {},
   "outputs": [],
   "source": []
  }
 ],
 "metadata": {
  "kernelspec": {
   "display_name": "Python 3 (ipykernel)",
   "language": "python",
   "name": "python3"
  },
  "language_info": {
   "codemirror_mode": {
    "name": "ipython",
    "version": 3
   },
   "file_extension": ".py",
   "mimetype": "text/x-python",
   "name": "python",
   "nbconvert_exporter": "python",
   "pygments_lexer": "ipython3",
   "version": "3.10.6"
  }
 },
 "nbformat": 4,
 "nbformat_minor": 5
}
